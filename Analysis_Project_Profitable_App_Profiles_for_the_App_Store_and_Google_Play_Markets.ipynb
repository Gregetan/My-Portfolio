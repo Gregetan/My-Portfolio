{
  "cells": [
    {
      "cell_type": "markdown",
      "metadata": {
        "id": "O0w8P6oZ_Fd7"
      },
      "source": [
        "# **Profitable App Profiles for the App Store and Google Play Markets**\n",
        "\n",
        "Our goal for this project is to analyze data to help our developers understand **what type of apps are likely to attract more users and are profitable for the App Store and Google Play markets**. We're working as data analysts for a company that builds Android and iOS mobile apps, and our job is to enable our team of developers to make data-driven decisions with respect to the kind of apps they build.\n",
        "\n",
        "At our company, we only build apps that are free to download and install, and our main source of revenue consists of in-app ads. This means that our revenue for any given app is mostly influenced by the number of users that use our app. Our goal for this project is to analyze data to help our developers understand what kinds of apps are likely to attract more users."
      ]
    },
    {
      "cell_type": "markdown",
      "metadata": {
        "id": "XyLVgY8q_Fd_"
      },
      "source": [
        "## **1. Data Exploration**"
      ]
    },
    {
      "cell_type": "code",
      "execution_count": 1,
      "metadata": {
        "id": "-YXe4TFt_FeA"
      },
      "outputs": [],
      "source": [
        "# ### Opening the dataset utilizing csv reader library to read csv file\n",
        "# from csv import reader\n",
        "\n",
        "# ### The Google Play data set ###\n",
        "# opened_file = open('googleplaystore.csv')\n",
        "# read_file = reader(opened_file)\n",
        "# android = list(read_file)\n",
        "# android_header = android[0]\n",
        "# android = android[1:]\n",
        "\n",
        "# ### The App Store data set ###\n",
        "# opened_file = open('AppleStore.csv')\n",
        "# read_file = reader(opened_file)\n",
        "# ios = list(read_file)\n",
        "# ios_header = ios[0]\n",
        "# ios = ios[1:]"
      ]
    },
    {
      "cell_type": "code",
      "source": [
        "from google.colab import drive\n",
        "drive.mount('/content/drive')"
      ],
      "metadata": {
        "colab": {
          "base_uri": "https://localhost:8080/"
        },
        "id": "DaXKq_i1_Yem",
        "outputId": "7069a48f-cf95-42e6-9a25-f5ba5e8818a0"
      },
      "execution_count": 2,
      "outputs": [
        {
          "output_type": "stream",
          "name": "stdout",
          "text": [
            "Drive already mounted at /content/drive; to attempt to forcibly remount, call drive.mount(\"/content/drive\", force_remount=True).\n"
          ]
        }
      ]
    },
    {
      "cell_type": "code",
      "source": [
        "import pandas as pd\n",
        "\n",
        "# loading and reading the A1 dataset\n",
        "data1 = \"/content/drive/MyDrive/Colab Notebooks/Practice/googleplaystore.csv\"\n",
        "android = pd.read_csv(data1)\n",
        "\n",
        "data2 = \"/content/drive/MyDrive/Colab Notebooks/Practice/AppleStore.csv\"\n",
        "ios = pd.read_csv(data2)"
      ],
      "metadata": {
        "id": "C0FkoqQm_ZlH"
      },
      "execution_count": 3,
      "outputs": []
    },
    {
      "cell_type": "code",
      "execution_count": 4,
      "metadata": {
        "colab": {
          "base_uri": "https://localhost:8080/",
          "height": 206
        },
        "id": "LDkryyJq_FeB",
        "outputId": "9921b73d-40b4-4a44-befc-53deecd9ae2c"
      },
      "outputs": [
        {
          "output_type": "execute_result",
          "data": {
            "text/plain": [
              "                                                 App        Category  Rating  \\\n",
              "0     Photo Editor & Candy Camera & Grid & ScrapBook  ART_AND_DESIGN     4.1   \n",
              "1                                Coloring book moana  ART_AND_DESIGN     3.9   \n",
              "2  U Launcher Lite – FREE Live Cool Themes, Hide ...  ART_AND_DESIGN     4.7   \n",
              "3                              Sketch - Draw & Paint  ART_AND_DESIGN     4.5   \n",
              "4              Pixel Draw - Number Art Coloring Book  ART_AND_DESIGN     4.3   \n",
              "\n",
              "  Reviews  Size     Installs  Type Price Content Rating  \\\n",
              "0     159   19M      10,000+  Free     0       Everyone   \n",
              "1     967   14M     500,000+  Free     0       Everyone   \n",
              "2   87510  8.7M   5,000,000+  Free     0       Everyone   \n",
              "3  215644   25M  50,000,000+  Free     0           Teen   \n",
              "4     967  2.8M     100,000+  Free     0       Everyone   \n",
              "\n",
              "                      Genres      Last Updated         Current Ver  \\\n",
              "0               Art & Design   January 7, 2018               1.0.0   \n",
              "1  Art & Design;Pretend Play  January 15, 2018               2.0.0   \n",
              "2               Art & Design    August 1, 2018               1.2.4   \n",
              "3               Art & Design      June 8, 2018  Varies with device   \n",
              "4    Art & Design;Creativity     June 20, 2018                 1.1   \n",
              "\n",
              "    Android Ver  \n",
              "0  4.0.3 and up  \n",
              "1  4.0.3 and up  \n",
              "2  4.0.3 and up  \n",
              "3    4.2 and up  \n",
              "4    4.4 and up  "
            ],
            "text/html": [
              "\n",
              "  <div id=\"df-1715f339-dc37-451d-a720-c27c41b031b0\" class=\"colab-df-container\">\n",
              "    <div>\n",
              "<style scoped>\n",
              "    .dataframe tbody tr th:only-of-type {\n",
              "        vertical-align: middle;\n",
              "    }\n",
              "\n",
              "    .dataframe tbody tr th {\n",
              "        vertical-align: top;\n",
              "    }\n",
              "\n",
              "    .dataframe thead th {\n",
              "        text-align: right;\n",
              "    }\n",
              "</style>\n",
              "<table border=\"1\" class=\"dataframe\">\n",
              "  <thead>\n",
              "    <tr style=\"text-align: right;\">\n",
              "      <th></th>\n",
              "      <th>App</th>\n",
              "      <th>Category</th>\n",
              "      <th>Rating</th>\n",
              "      <th>Reviews</th>\n",
              "      <th>Size</th>\n",
              "      <th>Installs</th>\n",
              "      <th>Type</th>\n",
              "      <th>Price</th>\n",
              "      <th>Content Rating</th>\n",
              "      <th>Genres</th>\n",
              "      <th>Last Updated</th>\n",
              "      <th>Current Ver</th>\n",
              "      <th>Android Ver</th>\n",
              "    </tr>\n",
              "  </thead>\n",
              "  <tbody>\n",
              "    <tr>\n",
              "      <th>0</th>\n",
              "      <td>Photo Editor &amp; Candy Camera &amp; Grid &amp; ScrapBook</td>\n",
              "      <td>ART_AND_DESIGN</td>\n",
              "      <td>4.1</td>\n",
              "      <td>159</td>\n",
              "      <td>19M</td>\n",
              "      <td>10,000+</td>\n",
              "      <td>Free</td>\n",
              "      <td>0</td>\n",
              "      <td>Everyone</td>\n",
              "      <td>Art &amp; Design</td>\n",
              "      <td>January 7, 2018</td>\n",
              "      <td>1.0.0</td>\n",
              "      <td>4.0.3 and up</td>\n",
              "    </tr>\n",
              "    <tr>\n",
              "      <th>1</th>\n",
              "      <td>Coloring book moana</td>\n",
              "      <td>ART_AND_DESIGN</td>\n",
              "      <td>3.9</td>\n",
              "      <td>967</td>\n",
              "      <td>14M</td>\n",
              "      <td>500,000+</td>\n",
              "      <td>Free</td>\n",
              "      <td>0</td>\n",
              "      <td>Everyone</td>\n",
              "      <td>Art &amp; Design;Pretend Play</td>\n",
              "      <td>January 15, 2018</td>\n",
              "      <td>2.0.0</td>\n",
              "      <td>4.0.3 and up</td>\n",
              "    </tr>\n",
              "    <tr>\n",
              "      <th>2</th>\n",
              "      <td>U Launcher Lite – FREE Live Cool Themes, Hide ...</td>\n",
              "      <td>ART_AND_DESIGN</td>\n",
              "      <td>4.7</td>\n",
              "      <td>87510</td>\n",
              "      <td>8.7M</td>\n",
              "      <td>5,000,000+</td>\n",
              "      <td>Free</td>\n",
              "      <td>0</td>\n",
              "      <td>Everyone</td>\n",
              "      <td>Art &amp; Design</td>\n",
              "      <td>August 1, 2018</td>\n",
              "      <td>1.2.4</td>\n",
              "      <td>4.0.3 and up</td>\n",
              "    </tr>\n",
              "    <tr>\n",
              "      <th>3</th>\n",
              "      <td>Sketch - Draw &amp; Paint</td>\n",
              "      <td>ART_AND_DESIGN</td>\n",
              "      <td>4.5</td>\n",
              "      <td>215644</td>\n",
              "      <td>25M</td>\n",
              "      <td>50,000,000+</td>\n",
              "      <td>Free</td>\n",
              "      <td>0</td>\n",
              "      <td>Teen</td>\n",
              "      <td>Art &amp; Design</td>\n",
              "      <td>June 8, 2018</td>\n",
              "      <td>Varies with device</td>\n",
              "      <td>4.2 and up</td>\n",
              "    </tr>\n",
              "    <tr>\n",
              "      <th>4</th>\n",
              "      <td>Pixel Draw - Number Art Coloring Book</td>\n",
              "      <td>ART_AND_DESIGN</td>\n",
              "      <td>4.3</td>\n",
              "      <td>967</td>\n",
              "      <td>2.8M</td>\n",
              "      <td>100,000+</td>\n",
              "      <td>Free</td>\n",
              "      <td>0</td>\n",
              "      <td>Everyone</td>\n",
              "      <td>Art &amp; Design;Creativity</td>\n",
              "      <td>June 20, 2018</td>\n",
              "      <td>1.1</td>\n",
              "      <td>4.4 and up</td>\n",
              "    </tr>\n",
              "  </tbody>\n",
              "</table>\n",
              "</div>\n",
              "    <div class=\"colab-df-buttons\">\n",
              "\n",
              "  <div class=\"colab-df-container\">\n",
              "    <button class=\"colab-df-convert\" onclick=\"convertToInteractive('df-1715f339-dc37-451d-a720-c27c41b031b0')\"\n",
              "            title=\"Convert this dataframe to an interactive table.\"\n",
              "            style=\"display:none;\">\n",
              "\n",
              "  <svg xmlns=\"http://www.w3.org/2000/svg\" height=\"24px\" viewBox=\"0 -960 960 960\">\n",
              "    <path d=\"M120-120v-720h720v720H120Zm60-500h600v-160H180v160Zm220 220h160v-160H400v160Zm0 220h160v-160H400v160ZM180-400h160v-160H180v160Zm440 0h160v-160H620v160ZM180-180h160v-160H180v160Zm440 0h160v-160H620v160Z\"/>\n",
              "  </svg>\n",
              "    </button>\n",
              "\n",
              "  <style>\n",
              "    .colab-df-container {\n",
              "      display:flex;\n",
              "      gap: 12px;\n",
              "    }\n",
              "\n",
              "    .colab-df-convert {\n",
              "      background-color: #E8F0FE;\n",
              "      border: none;\n",
              "      border-radius: 50%;\n",
              "      cursor: pointer;\n",
              "      display: none;\n",
              "      fill: #1967D2;\n",
              "      height: 32px;\n",
              "      padding: 0 0 0 0;\n",
              "      width: 32px;\n",
              "    }\n",
              "\n",
              "    .colab-df-convert:hover {\n",
              "      background-color: #E2EBFA;\n",
              "      box-shadow: 0px 1px 2px rgba(60, 64, 67, 0.3), 0px 1px 3px 1px rgba(60, 64, 67, 0.15);\n",
              "      fill: #174EA6;\n",
              "    }\n",
              "\n",
              "    .colab-df-buttons div {\n",
              "      margin-bottom: 4px;\n",
              "    }\n",
              "\n",
              "    [theme=dark] .colab-df-convert {\n",
              "      background-color: #3B4455;\n",
              "      fill: #D2E3FC;\n",
              "    }\n",
              "\n",
              "    [theme=dark] .colab-df-convert:hover {\n",
              "      background-color: #434B5C;\n",
              "      box-shadow: 0px 1px 3px 1px rgba(0, 0, 0, 0.15);\n",
              "      filter: drop-shadow(0px 1px 2px rgba(0, 0, 0, 0.3));\n",
              "      fill: #FFFFFF;\n",
              "    }\n",
              "  </style>\n",
              "\n",
              "    <script>\n",
              "      const buttonEl =\n",
              "        document.querySelector('#df-1715f339-dc37-451d-a720-c27c41b031b0 button.colab-df-convert');\n",
              "      buttonEl.style.display =\n",
              "        google.colab.kernel.accessAllowed ? 'block' : 'none';\n",
              "\n",
              "      async function convertToInteractive(key) {\n",
              "        const element = document.querySelector('#df-1715f339-dc37-451d-a720-c27c41b031b0');\n",
              "        const dataTable =\n",
              "          await google.colab.kernel.invokeFunction('convertToInteractive',\n",
              "                                                    [key], {});\n",
              "        if (!dataTable) return;\n",
              "\n",
              "        const docLinkHtml = 'Like what you see? Visit the ' +\n",
              "          '<a target=\"_blank\" href=https://colab.research.google.com/notebooks/data_table.ipynb>data table notebook</a>'\n",
              "          + ' to learn more about interactive tables.';\n",
              "        element.innerHTML = '';\n",
              "        dataTable['output_type'] = 'display_data';\n",
              "        await google.colab.output.renderOutput(dataTable, element);\n",
              "        const docLink = document.createElement('div');\n",
              "        docLink.innerHTML = docLinkHtml;\n",
              "        element.appendChild(docLink);\n",
              "      }\n",
              "    </script>\n",
              "  </div>\n",
              "\n",
              "\n",
              "<div id=\"df-1f5d4763-ea76-421b-9e90-7e2bdfef0c62\">\n",
              "  <button class=\"colab-df-quickchart\" onclick=\"quickchart('df-1f5d4763-ea76-421b-9e90-7e2bdfef0c62')\"\n",
              "            title=\"Suggest charts\"\n",
              "            style=\"display:none;\">\n",
              "\n",
              "<svg xmlns=\"http://www.w3.org/2000/svg\" height=\"24px\"viewBox=\"0 0 24 24\"\n",
              "     width=\"24px\">\n",
              "    <g>\n",
              "        <path d=\"M19 3H5c-1.1 0-2 .9-2 2v14c0 1.1.9 2 2 2h14c1.1 0 2-.9 2-2V5c0-1.1-.9-2-2-2zM9 17H7v-7h2v7zm4 0h-2V7h2v10zm4 0h-2v-4h2v4z\"/>\n",
              "    </g>\n",
              "</svg>\n",
              "  </button>\n",
              "\n",
              "<style>\n",
              "  .colab-df-quickchart {\n",
              "      --bg-color: #E8F0FE;\n",
              "      --fill-color: #1967D2;\n",
              "      --hover-bg-color: #E2EBFA;\n",
              "      --hover-fill-color: #174EA6;\n",
              "      --disabled-fill-color: #AAA;\n",
              "      --disabled-bg-color: #DDD;\n",
              "  }\n",
              "\n",
              "  [theme=dark] .colab-df-quickchart {\n",
              "      --bg-color: #3B4455;\n",
              "      --fill-color: #D2E3FC;\n",
              "      --hover-bg-color: #434B5C;\n",
              "      --hover-fill-color: #FFFFFF;\n",
              "      --disabled-bg-color: #3B4455;\n",
              "      --disabled-fill-color: #666;\n",
              "  }\n",
              "\n",
              "  .colab-df-quickchart {\n",
              "    background-color: var(--bg-color);\n",
              "    border: none;\n",
              "    border-radius: 50%;\n",
              "    cursor: pointer;\n",
              "    display: none;\n",
              "    fill: var(--fill-color);\n",
              "    height: 32px;\n",
              "    padding: 0;\n",
              "    width: 32px;\n",
              "  }\n",
              "\n",
              "  .colab-df-quickchart:hover {\n",
              "    background-color: var(--hover-bg-color);\n",
              "    box-shadow: 0 1px 2px rgba(60, 64, 67, 0.3), 0 1px 3px 1px rgba(60, 64, 67, 0.15);\n",
              "    fill: var(--button-hover-fill-color);\n",
              "  }\n",
              "\n",
              "  .colab-df-quickchart-complete:disabled,\n",
              "  .colab-df-quickchart-complete:disabled:hover {\n",
              "    background-color: var(--disabled-bg-color);\n",
              "    fill: var(--disabled-fill-color);\n",
              "    box-shadow: none;\n",
              "  }\n",
              "\n",
              "  .colab-df-spinner {\n",
              "    border: 2px solid var(--fill-color);\n",
              "    border-color: transparent;\n",
              "    border-bottom-color: var(--fill-color);\n",
              "    animation:\n",
              "      spin 1s steps(1) infinite;\n",
              "  }\n",
              "\n",
              "  @keyframes spin {\n",
              "    0% {\n",
              "      border-color: transparent;\n",
              "      border-bottom-color: var(--fill-color);\n",
              "      border-left-color: var(--fill-color);\n",
              "    }\n",
              "    20% {\n",
              "      border-color: transparent;\n",
              "      border-left-color: var(--fill-color);\n",
              "      border-top-color: var(--fill-color);\n",
              "    }\n",
              "    30% {\n",
              "      border-color: transparent;\n",
              "      border-left-color: var(--fill-color);\n",
              "      border-top-color: var(--fill-color);\n",
              "      border-right-color: var(--fill-color);\n",
              "    }\n",
              "    40% {\n",
              "      border-color: transparent;\n",
              "      border-right-color: var(--fill-color);\n",
              "      border-top-color: var(--fill-color);\n",
              "    }\n",
              "    60% {\n",
              "      border-color: transparent;\n",
              "      border-right-color: var(--fill-color);\n",
              "    }\n",
              "    80% {\n",
              "      border-color: transparent;\n",
              "      border-right-color: var(--fill-color);\n",
              "      border-bottom-color: var(--fill-color);\n",
              "    }\n",
              "    90% {\n",
              "      border-color: transparent;\n",
              "      border-bottom-color: var(--fill-color);\n",
              "    }\n",
              "  }\n",
              "</style>\n",
              "\n",
              "  <script>\n",
              "    async function quickchart(key) {\n",
              "      const quickchartButtonEl =\n",
              "        document.querySelector('#' + key + ' button');\n",
              "      quickchartButtonEl.disabled = true;  // To prevent multiple clicks.\n",
              "      quickchartButtonEl.classList.add('colab-df-spinner');\n",
              "      try {\n",
              "        const charts = await google.colab.kernel.invokeFunction(\n",
              "            'suggestCharts', [key], {});\n",
              "      } catch (error) {\n",
              "        console.error('Error during call to suggestCharts:', error);\n",
              "      }\n",
              "      quickchartButtonEl.classList.remove('colab-df-spinner');\n",
              "      quickchartButtonEl.classList.add('colab-df-quickchart-complete');\n",
              "    }\n",
              "    (() => {\n",
              "      let quickchartButtonEl =\n",
              "        document.querySelector('#df-1f5d4763-ea76-421b-9e90-7e2bdfef0c62 button');\n",
              "      quickchartButtonEl.style.display =\n",
              "        google.colab.kernel.accessAllowed ? 'block' : 'none';\n",
              "    })();\n",
              "  </script>\n",
              "</div>\n",
              "\n",
              "    </div>\n",
              "  </div>\n"
            ],
            "application/vnd.google.colaboratory.intrinsic+json": {
              "type": "dataframe",
              "variable_name": "android",
              "summary": "{\n  \"name\": \"android\",\n  \"rows\": 10841,\n  \"fields\": [\n    {\n      \"column\": \"App\",\n      \"properties\": {\n        \"dtype\": \"string\",\n        \"num_unique_values\": 9660,\n        \"samples\": [\n          \"Run R Script - Online Statistical Data Analysis\",\n          \"EURES - Your Job in Europe\",\n          \"Dog Licks Screen Wallpaper\"\n        ],\n        \"semantic_type\": \"\",\n        \"description\": \"\"\n      }\n    },\n    {\n      \"column\": \"Category\",\n      \"properties\": {\n        \"dtype\": \"category\",\n        \"num_unique_values\": 34,\n        \"samples\": [\n          \"LIBRARIES_AND_DEMO\",\n          \"MEDICAL\",\n          \"PRODUCTIVITY\"\n        ],\n        \"semantic_type\": \"\",\n        \"description\": \"\"\n      }\n    },\n    {\n      \"column\": \"Rating\",\n      \"properties\": {\n        \"dtype\": \"number\",\n        \"std\": 0.5374313031477587,\n        \"min\": 1.0,\n        \"max\": 19.0,\n        \"num_unique_values\": 40,\n        \"samples\": [\n          5.0,\n          3.4,\n          3.3\n        ],\n        \"semantic_type\": \"\",\n        \"description\": \"\"\n      }\n    },\n    {\n      \"column\": \"Reviews\",\n      \"properties\": {\n        \"dtype\": \"string\",\n        \"num_unique_values\": 6002,\n        \"samples\": [\n          \"66661\",\n          \"7479\",\n          \"8978\"\n        ],\n        \"semantic_type\": \"\",\n        \"description\": \"\"\n      }\n    },\n    {\n      \"column\": \"Size\",\n      \"properties\": {\n        \"dtype\": \"category\",\n        \"num_unique_values\": 462,\n        \"samples\": [\n          \"746k\",\n          \"9.4M\",\n          \"35M\"\n        ],\n        \"semantic_type\": \"\",\n        \"description\": \"\"\n      }\n    },\n    {\n      \"column\": \"Installs\",\n      \"properties\": {\n        \"dtype\": \"category\",\n        \"num_unique_values\": 22,\n        \"samples\": [\n          \"10,000+\",\n          \"50+\",\n          \"5,000+\"\n        ],\n        \"semantic_type\": \"\",\n        \"description\": \"\"\n      }\n    },\n    {\n      \"column\": \"Type\",\n      \"properties\": {\n        \"dtype\": \"category\",\n        \"num_unique_values\": 3,\n        \"samples\": [\n          \"Free\",\n          \"Paid\",\n          \"0\"\n        ],\n        \"semantic_type\": \"\",\n        \"description\": \"\"\n      }\n    },\n    {\n      \"column\": \"Price\",\n      \"properties\": {\n        \"dtype\": \"category\",\n        \"num_unique_values\": 93,\n        \"samples\": [\n          \"$17.99\",\n          \"$29.99\",\n          \"$37.99\"\n        ],\n        \"semantic_type\": \"\",\n        \"description\": \"\"\n      }\n    },\n    {\n      \"column\": \"Content Rating\",\n      \"properties\": {\n        \"dtype\": \"category\",\n        \"num_unique_values\": 6,\n        \"samples\": [\n          \"Everyone\",\n          \"Teen\",\n          \"Unrated\"\n        ],\n        \"semantic_type\": \"\",\n        \"description\": \"\"\n      }\n    },\n    {\n      \"column\": \"Genres\",\n      \"properties\": {\n        \"dtype\": \"category\",\n        \"num_unique_values\": 120,\n        \"samples\": [\n          \"Casual;Action & Adventure\",\n          \"Board\",\n          \"Auto & Vehicles\"\n        ],\n        \"semantic_type\": \"\",\n        \"description\": \"\"\n      }\n    },\n    {\n      \"column\": \"Last Updated\",\n      \"properties\": {\n        \"dtype\": \"category\",\n        \"num_unique_values\": 1378,\n        \"samples\": [\n          \"March 15, 2016\",\n          \"May 14, 2013\",\n          \"October 21, 2015\"\n        ],\n        \"semantic_type\": \"\",\n        \"description\": \"\"\n      }\n    },\n    {\n      \"column\": \"Current Ver\",\n      \"properties\": {\n        \"dtype\": \"category\",\n        \"num_unique_values\": 2832,\n        \"samples\": [\n          \"7.0.4.17908\",\n          \"1.2.5.4-11\",\n          \"2.5.7.1\"\n        ],\n        \"semantic_type\": \"\",\n        \"description\": \"\"\n      }\n    },\n    {\n      \"column\": \"Android Ver\",\n      \"properties\": {\n        \"dtype\": \"category\",\n        \"num_unique_values\": 33,\n        \"samples\": [\n          \"2.2 - 7.1.1\",\n          \"7.0 and up\",\n          \"3.1 and up\"\n        ],\n        \"semantic_type\": \"\",\n        \"description\": \"\"\n      }\n    }\n  ]\n}"
            }
          },
          "metadata": {},
          "execution_count": 4
        }
      ],
      "source": [
        "android.head()"
      ]
    },
    {
      "cell_type": "code",
      "execution_count": 5,
      "metadata": {
        "colab": {
          "base_uri": "https://localhost:8080/"
        },
        "id": "JSKufl9T_FeD",
        "outputId": "4857cde6-bb9a-4038-ca1e-2686e70a40c1"
      },
      "outputs": [
        {
          "output_type": "stream",
          "name": "stdout",
          "text": [
            "Shape of android dataset: (10841, 13)\n",
            "Number of rows: 10841\n",
            "Number of columns: 13\n"
          ]
        }
      ],
      "source": [
        "print(\"Shape of android dataset:\", android.shape)\n",
        "print('Number of rows:', android.shape[0])\n",
        "print('Number of columns:', android.shape[1])"
      ]
    },
    {
      "cell_type": "code",
      "execution_count": 6,
      "metadata": {
        "colab": {
          "base_uri": "https://localhost:8080/",
          "height": 206
        },
        "id": "BBBbYzsH_FeC",
        "outputId": "d467b6d8-83c1-48ca-d819-af915ef5d591"
      },
      "outputs": [
        {
          "output_type": "execute_result",
          "data": {
            "text/plain": [
              "          id               track_name  size_bytes currency  price  \\\n",
              "0  284882215                 Facebook   389879808      USD    0.0   \n",
              "1  389801252                Instagram   113954816      USD    0.0   \n",
              "2  529479190           Clash of Clans   116476928      USD    0.0   \n",
              "3  420009108               Temple Run    65921024      USD    0.0   \n",
              "4  284035177  Pandora - Music & Radio   130242560      USD    0.0   \n",
              "\n",
              "   rating_count_tot  rating_count_ver  user_rating  user_rating_ver      ver  \\\n",
              "0           2974676               212          3.5              3.5     95.0   \n",
              "1           2161558              1289          4.5              4.0    10.23   \n",
              "2           2130805               579          4.5              4.5  9.24.12   \n",
              "3           1724546              3842          4.5              4.0    1.6.2   \n",
              "4           1126879              3594          4.0              4.5    8.4.1   \n",
              "\n",
              "  cont_rating        prime_genre  sup_devices.num  ipadSc_urls.num  lang.num  \\\n",
              "0          4+  Social Networking               37                1        29   \n",
              "1         12+      Photo & Video               37                0        29   \n",
              "2          9+              Games               38                5        18   \n",
              "3          9+              Games               40                5         1   \n",
              "4         12+              Music               37                4         1   \n",
              "\n",
              "   vpp_lic  \n",
              "0        1  \n",
              "1        1  \n",
              "2        1  \n",
              "3        1  \n",
              "4        1  "
            ],
            "text/html": [
              "\n",
              "  <div id=\"df-8843acb1-d221-4d15-99c2-4fe91043852c\" class=\"colab-df-container\">\n",
              "    <div>\n",
              "<style scoped>\n",
              "    .dataframe tbody tr th:only-of-type {\n",
              "        vertical-align: middle;\n",
              "    }\n",
              "\n",
              "    .dataframe tbody tr th {\n",
              "        vertical-align: top;\n",
              "    }\n",
              "\n",
              "    .dataframe thead th {\n",
              "        text-align: right;\n",
              "    }\n",
              "</style>\n",
              "<table border=\"1\" class=\"dataframe\">\n",
              "  <thead>\n",
              "    <tr style=\"text-align: right;\">\n",
              "      <th></th>\n",
              "      <th>id</th>\n",
              "      <th>track_name</th>\n",
              "      <th>size_bytes</th>\n",
              "      <th>currency</th>\n",
              "      <th>price</th>\n",
              "      <th>rating_count_tot</th>\n",
              "      <th>rating_count_ver</th>\n",
              "      <th>user_rating</th>\n",
              "      <th>user_rating_ver</th>\n",
              "      <th>ver</th>\n",
              "      <th>cont_rating</th>\n",
              "      <th>prime_genre</th>\n",
              "      <th>sup_devices.num</th>\n",
              "      <th>ipadSc_urls.num</th>\n",
              "      <th>lang.num</th>\n",
              "      <th>vpp_lic</th>\n",
              "    </tr>\n",
              "  </thead>\n",
              "  <tbody>\n",
              "    <tr>\n",
              "      <th>0</th>\n",
              "      <td>284882215</td>\n",
              "      <td>Facebook</td>\n",
              "      <td>389879808</td>\n",
              "      <td>USD</td>\n",
              "      <td>0.0</td>\n",
              "      <td>2974676</td>\n",
              "      <td>212</td>\n",
              "      <td>3.5</td>\n",
              "      <td>3.5</td>\n",
              "      <td>95.0</td>\n",
              "      <td>4+</td>\n",
              "      <td>Social Networking</td>\n",
              "      <td>37</td>\n",
              "      <td>1</td>\n",
              "      <td>29</td>\n",
              "      <td>1</td>\n",
              "    </tr>\n",
              "    <tr>\n",
              "      <th>1</th>\n",
              "      <td>389801252</td>\n",
              "      <td>Instagram</td>\n",
              "      <td>113954816</td>\n",
              "      <td>USD</td>\n",
              "      <td>0.0</td>\n",
              "      <td>2161558</td>\n",
              "      <td>1289</td>\n",
              "      <td>4.5</td>\n",
              "      <td>4.0</td>\n",
              "      <td>10.23</td>\n",
              "      <td>12+</td>\n",
              "      <td>Photo &amp; Video</td>\n",
              "      <td>37</td>\n",
              "      <td>0</td>\n",
              "      <td>29</td>\n",
              "      <td>1</td>\n",
              "    </tr>\n",
              "    <tr>\n",
              "      <th>2</th>\n",
              "      <td>529479190</td>\n",
              "      <td>Clash of Clans</td>\n",
              "      <td>116476928</td>\n",
              "      <td>USD</td>\n",
              "      <td>0.0</td>\n",
              "      <td>2130805</td>\n",
              "      <td>579</td>\n",
              "      <td>4.5</td>\n",
              "      <td>4.5</td>\n",
              "      <td>9.24.12</td>\n",
              "      <td>9+</td>\n",
              "      <td>Games</td>\n",
              "      <td>38</td>\n",
              "      <td>5</td>\n",
              "      <td>18</td>\n",
              "      <td>1</td>\n",
              "    </tr>\n",
              "    <tr>\n",
              "      <th>3</th>\n",
              "      <td>420009108</td>\n",
              "      <td>Temple Run</td>\n",
              "      <td>65921024</td>\n",
              "      <td>USD</td>\n",
              "      <td>0.0</td>\n",
              "      <td>1724546</td>\n",
              "      <td>3842</td>\n",
              "      <td>4.5</td>\n",
              "      <td>4.0</td>\n",
              "      <td>1.6.2</td>\n",
              "      <td>9+</td>\n",
              "      <td>Games</td>\n",
              "      <td>40</td>\n",
              "      <td>5</td>\n",
              "      <td>1</td>\n",
              "      <td>1</td>\n",
              "    </tr>\n",
              "    <tr>\n",
              "      <th>4</th>\n",
              "      <td>284035177</td>\n",
              "      <td>Pandora - Music &amp; Radio</td>\n",
              "      <td>130242560</td>\n",
              "      <td>USD</td>\n",
              "      <td>0.0</td>\n",
              "      <td>1126879</td>\n",
              "      <td>3594</td>\n",
              "      <td>4.0</td>\n",
              "      <td>4.5</td>\n",
              "      <td>8.4.1</td>\n",
              "      <td>12+</td>\n",
              "      <td>Music</td>\n",
              "      <td>37</td>\n",
              "      <td>4</td>\n",
              "      <td>1</td>\n",
              "      <td>1</td>\n",
              "    </tr>\n",
              "  </tbody>\n",
              "</table>\n",
              "</div>\n",
              "    <div class=\"colab-df-buttons\">\n",
              "\n",
              "  <div class=\"colab-df-container\">\n",
              "    <button class=\"colab-df-convert\" onclick=\"convertToInteractive('df-8843acb1-d221-4d15-99c2-4fe91043852c')\"\n",
              "            title=\"Convert this dataframe to an interactive table.\"\n",
              "            style=\"display:none;\">\n",
              "\n",
              "  <svg xmlns=\"http://www.w3.org/2000/svg\" height=\"24px\" viewBox=\"0 -960 960 960\">\n",
              "    <path d=\"M120-120v-720h720v720H120Zm60-500h600v-160H180v160Zm220 220h160v-160H400v160Zm0 220h160v-160H400v160ZM180-400h160v-160H180v160Zm440 0h160v-160H620v160ZM180-180h160v-160H180v160Zm440 0h160v-160H620v160Z\"/>\n",
              "  </svg>\n",
              "    </button>\n",
              "\n",
              "  <style>\n",
              "    .colab-df-container {\n",
              "      display:flex;\n",
              "      gap: 12px;\n",
              "    }\n",
              "\n",
              "    .colab-df-convert {\n",
              "      background-color: #E8F0FE;\n",
              "      border: none;\n",
              "      border-radius: 50%;\n",
              "      cursor: pointer;\n",
              "      display: none;\n",
              "      fill: #1967D2;\n",
              "      height: 32px;\n",
              "      padding: 0 0 0 0;\n",
              "      width: 32px;\n",
              "    }\n",
              "\n",
              "    .colab-df-convert:hover {\n",
              "      background-color: #E2EBFA;\n",
              "      box-shadow: 0px 1px 2px rgba(60, 64, 67, 0.3), 0px 1px 3px 1px rgba(60, 64, 67, 0.15);\n",
              "      fill: #174EA6;\n",
              "    }\n",
              "\n",
              "    .colab-df-buttons div {\n",
              "      margin-bottom: 4px;\n",
              "    }\n",
              "\n",
              "    [theme=dark] .colab-df-convert {\n",
              "      background-color: #3B4455;\n",
              "      fill: #D2E3FC;\n",
              "    }\n",
              "\n",
              "    [theme=dark] .colab-df-convert:hover {\n",
              "      background-color: #434B5C;\n",
              "      box-shadow: 0px 1px 3px 1px rgba(0, 0, 0, 0.15);\n",
              "      filter: drop-shadow(0px 1px 2px rgba(0, 0, 0, 0.3));\n",
              "      fill: #FFFFFF;\n",
              "    }\n",
              "  </style>\n",
              "\n",
              "    <script>\n",
              "      const buttonEl =\n",
              "        document.querySelector('#df-8843acb1-d221-4d15-99c2-4fe91043852c button.colab-df-convert');\n",
              "      buttonEl.style.display =\n",
              "        google.colab.kernel.accessAllowed ? 'block' : 'none';\n",
              "\n",
              "      async function convertToInteractive(key) {\n",
              "        const element = document.querySelector('#df-8843acb1-d221-4d15-99c2-4fe91043852c');\n",
              "        const dataTable =\n",
              "          await google.colab.kernel.invokeFunction('convertToInteractive',\n",
              "                                                    [key], {});\n",
              "        if (!dataTable) return;\n",
              "\n",
              "        const docLinkHtml = 'Like what you see? Visit the ' +\n",
              "          '<a target=\"_blank\" href=https://colab.research.google.com/notebooks/data_table.ipynb>data table notebook</a>'\n",
              "          + ' to learn more about interactive tables.';\n",
              "        element.innerHTML = '';\n",
              "        dataTable['output_type'] = 'display_data';\n",
              "        await google.colab.output.renderOutput(dataTable, element);\n",
              "        const docLink = document.createElement('div');\n",
              "        docLink.innerHTML = docLinkHtml;\n",
              "        element.appendChild(docLink);\n",
              "      }\n",
              "    </script>\n",
              "  </div>\n",
              "\n",
              "\n",
              "<div id=\"df-4028248b-5eda-486f-8ea6-c4bcee4d6133\">\n",
              "  <button class=\"colab-df-quickchart\" onclick=\"quickchart('df-4028248b-5eda-486f-8ea6-c4bcee4d6133')\"\n",
              "            title=\"Suggest charts\"\n",
              "            style=\"display:none;\">\n",
              "\n",
              "<svg xmlns=\"http://www.w3.org/2000/svg\" height=\"24px\"viewBox=\"0 0 24 24\"\n",
              "     width=\"24px\">\n",
              "    <g>\n",
              "        <path d=\"M19 3H5c-1.1 0-2 .9-2 2v14c0 1.1.9 2 2 2h14c1.1 0 2-.9 2-2V5c0-1.1-.9-2-2-2zM9 17H7v-7h2v7zm4 0h-2V7h2v10zm4 0h-2v-4h2v4z\"/>\n",
              "    </g>\n",
              "</svg>\n",
              "  </button>\n",
              "\n",
              "<style>\n",
              "  .colab-df-quickchart {\n",
              "      --bg-color: #E8F0FE;\n",
              "      --fill-color: #1967D2;\n",
              "      --hover-bg-color: #E2EBFA;\n",
              "      --hover-fill-color: #174EA6;\n",
              "      --disabled-fill-color: #AAA;\n",
              "      --disabled-bg-color: #DDD;\n",
              "  }\n",
              "\n",
              "  [theme=dark] .colab-df-quickchart {\n",
              "      --bg-color: #3B4455;\n",
              "      --fill-color: #D2E3FC;\n",
              "      --hover-bg-color: #434B5C;\n",
              "      --hover-fill-color: #FFFFFF;\n",
              "      --disabled-bg-color: #3B4455;\n",
              "      --disabled-fill-color: #666;\n",
              "  }\n",
              "\n",
              "  .colab-df-quickchart {\n",
              "    background-color: var(--bg-color);\n",
              "    border: none;\n",
              "    border-radius: 50%;\n",
              "    cursor: pointer;\n",
              "    display: none;\n",
              "    fill: var(--fill-color);\n",
              "    height: 32px;\n",
              "    padding: 0;\n",
              "    width: 32px;\n",
              "  }\n",
              "\n",
              "  .colab-df-quickchart:hover {\n",
              "    background-color: var(--hover-bg-color);\n",
              "    box-shadow: 0 1px 2px rgba(60, 64, 67, 0.3), 0 1px 3px 1px rgba(60, 64, 67, 0.15);\n",
              "    fill: var(--button-hover-fill-color);\n",
              "  }\n",
              "\n",
              "  .colab-df-quickchart-complete:disabled,\n",
              "  .colab-df-quickchart-complete:disabled:hover {\n",
              "    background-color: var(--disabled-bg-color);\n",
              "    fill: var(--disabled-fill-color);\n",
              "    box-shadow: none;\n",
              "  }\n",
              "\n",
              "  .colab-df-spinner {\n",
              "    border: 2px solid var(--fill-color);\n",
              "    border-color: transparent;\n",
              "    border-bottom-color: var(--fill-color);\n",
              "    animation:\n",
              "      spin 1s steps(1) infinite;\n",
              "  }\n",
              "\n",
              "  @keyframes spin {\n",
              "    0% {\n",
              "      border-color: transparent;\n",
              "      border-bottom-color: var(--fill-color);\n",
              "      border-left-color: var(--fill-color);\n",
              "    }\n",
              "    20% {\n",
              "      border-color: transparent;\n",
              "      border-left-color: var(--fill-color);\n",
              "      border-top-color: var(--fill-color);\n",
              "    }\n",
              "    30% {\n",
              "      border-color: transparent;\n",
              "      border-left-color: var(--fill-color);\n",
              "      border-top-color: var(--fill-color);\n",
              "      border-right-color: var(--fill-color);\n",
              "    }\n",
              "    40% {\n",
              "      border-color: transparent;\n",
              "      border-right-color: var(--fill-color);\n",
              "      border-top-color: var(--fill-color);\n",
              "    }\n",
              "    60% {\n",
              "      border-color: transparent;\n",
              "      border-right-color: var(--fill-color);\n",
              "    }\n",
              "    80% {\n",
              "      border-color: transparent;\n",
              "      border-right-color: var(--fill-color);\n",
              "      border-bottom-color: var(--fill-color);\n",
              "    }\n",
              "    90% {\n",
              "      border-color: transparent;\n",
              "      border-bottom-color: var(--fill-color);\n",
              "    }\n",
              "  }\n",
              "</style>\n",
              "\n",
              "  <script>\n",
              "    async function quickchart(key) {\n",
              "      const quickchartButtonEl =\n",
              "        document.querySelector('#' + key + ' button');\n",
              "      quickchartButtonEl.disabled = true;  // To prevent multiple clicks.\n",
              "      quickchartButtonEl.classList.add('colab-df-spinner');\n",
              "      try {\n",
              "        const charts = await google.colab.kernel.invokeFunction(\n",
              "            'suggestCharts', [key], {});\n",
              "      } catch (error) {\n",
              "        console.error('Error during call to suggestCharts:', error);\n",
              "      }\n",
              "      quickchartButtonEl.classList.remove('colab-df-spinner');\n",
              "      quickchartButtonEl.classList.add('colab-df-quickchart-complete');\n",
              "    }\n",
              "    (() => {\n",
              "      let quickchartButtonEl =\n",
              "        document.querySelector('#df-4028248b-5eda-486f-8ea6-c4bcee4d6133 button');\n",
              "      quickchartButtonEl.style.display =\n",
              "        google.colab.kernel.accessAllowed ? 'block' : 'none';\n",
              "    })();\n",
              "  </script>\n",
              "</div>\n",
              "\n",
              "    </div>\n",
              "  </div>\n"
            ],
            "application/vnd.google.colaboratory.intrinsic+json": {
              "type": "dataframe",
              "variable_name": "ios",
              "summary": "{\n  \"name\": \"ios\",\n  \"rows\": 7197,\n  \"fields\": [\n    {\n      \"column\": \"id\",\n      \"properties\": {\n        \"dtype\": \"number\",\n        \"std\": 271236755,\n        \"min\": 281656475,\n        \"max\": 1188375727,\n        \"num_unique_values\": 7197,\n        \"samples\": [\n          486692623,\n          1061912080,\n          834993441\n        ],\n        \"semantic_type\": \"\",\n        \"description\": \"\"\n      }\n    },\n    {\n      \"column\": \"track_name\",\n      \"properties\": {\n        \"dtype\": \"string\",\n        \"num_unique_values\": 7195,\n        \"samples\": [\n          \"ConjuVerb - Spanish Verb Conjugation Helper\",\n          \"Sea of Lies: Tide of Treachery - A Hidden Object Mystery (Full)\",\n          \"Instant X - Take instant-camera-like photo with double exposure and bulb mode\"\n        ],\n        \"semantic_type\": \"\",\n        \"description\": \"\"\n      }\n    },\n    {\n      \"column\": \"size_bytes\",\n      \"properties\": {\n        \"dtype\": \"number\",\n        \"std\": 359206913,\n        \"min\": 589824,\n        \"max\": 4025969664,\n        \"num_unique_values\": 7107,\n        \"samples\": [\n          45465600,\n          134531072,\n          55710720\n        ],\n        \"semantic_type\": \"\",\n        \"description\": \"\"\n      }\n    },\n    {\n      \"column\": \"currency\",\n      \"properties\": {\n        \"dtype\": \"category\",\n        \"num_unique_values\": 1,\n        \"samples\": [\n          \"USD\"\n        ],\n        \"semantic_type\": \"\",\n        \"description\": \"\"\n      }\n    },\n    {\n      \"column\": \"price\",\n      \"properties\": {\n        \"dtype\": \"number\",\n        \"std\": 5.833005786951914,\n        \"min\": 0.0,\n        \"max\": 299.99,\n        \"num_unique_values\": 36,\n        \"samples\": [\n          47.99\n        ],\n        \"semantic_type\": \"\",\n        \"description\": \"\"\n      }\n    },\n    {\n      \"column\": \"rating_count_tot\",\n      \"properties\": {\n        \"dtype\": \"number\",\n        \"std\": 75739,\n        \"min\": 0,\n        \"max\": 2974676,\n        \"num_unique_values\": 3185,\n        \"samples\": [\n          9453\n        ],\n        \"semantic_type\": \"\",\n        \"description\": \"\"\n      }\n    },\n    {\n      \"column\": \"rating_count_ver\",\n      \"properties\": {\n        \"dtype\": \"number\",\n        \"std\": 3920,\n        \"min\": 0,\n        \"max\": 177050,\n        \"num_unique_values\": 1138,\n        \"samples\": [\n          5031\n        ],\n        \"semantic_type\": \"\",\n        \"description\": \"\"\n      }\n    },\n    {\n      \"column\": \"user_rating\",\n      \"properties\": {\n        \"dtype\": \"number\",\n        \"std\": 1.517947593629885,\n        \"min\": 0.0,\n        \"max\": 5.0,\n        \"num_unique_values\": 10,\n        \"samples\": [\n          1.0\n        ],\n        \"semantic_type\": \"\",\n        \"description\": \"\"\n      }\n    },\n    {\n      \"column\": \"user_rating_ver\",\n      \"properties\": {\n        \"dtype\": \"number\",\n        \"std\": 1.809362823117773,\n        \"min\": 0.0,\n        \"max\": 5.0,\n        \"num_unique_values\": 10,\n        \"samples\": [\n          2.0\n        ],\n        \"semantic_type\": \"\",\n        \"description\": \"\"\n      }\n    },\n    {\n      \"column\": \"ver\",\n      \"properties\": {\n        \"dtype\": \"category\",\n        \"num_unique_values\": 1590,\n        \"samples\": [\n          \"1.44\"\n        ],\n        \"semantic_type\": \"\",\n        \"description\": \"\"\n      }\n    },\n    {\n      \"column\": \"cont_rating\",\n      \"properties\": {\n        \"dtype\": \"category\",\n        \"num_unique_values\": 4,\n        \"samples\": [\n          \"12+\"\n        ],\n        \"semantic_type\": \"\",\n        \"description\": \"\"\n      }\n    },\n    {\n      \"column\": \"prime_genre\",\n      \"properties\": {\n        \"dtype\": \"category\",\n        \"num_unique_values\": 23,\n        \"samples\": [\n          \"Sports\"\n        ],\n        \"semantic_type\": \"\",\n        \"description\": \"\"\n      }\n    },\n    {\n      \"column\": \"sup_devices.num\",\n      \"properties\": {\n        \"dtype\": \"number\",\n        \"std\": 3,\n        \"min\": 9,\n        \"max\": 47,\n        \"num_unique_values\": 20,\n        \"samples\": [\n          37\n        ],\n        \"semantic_type\": \"\",\n        \"description\": \"\"\n      }\n    },\n    {\n      \"column\": \"ipadSc_urls.num\",\n      \"properties\": {\n        \"dtype\": \"number\",\n        \"std\": 1,\n        \"min\": 0,\n        \"max\": 5,\n        \"num_unique_values\": 6,\n        \"samples\": [\n          1\n        ],\n        \"semantic_type\": \"\",\n        \"description\": \"\"\n      }\n    },\n    {\n      \"column\": \"lang.num\",\n      \"properties\": {\n        \"dtype\": \"number\",\n        \"std\": 7,\n        \"min\": 0,\n        \"max\": 75,\n        \"num_unique_values\": 57,\n        \"samples\": [\n          29\n        ],\n        \"semantic_type\": \"\",\n        \"description\": \"\"\n      }\n    },\n    {\n      \"column\": \"vpp_lic\",\n      \"properties\": {\n        \"dtype\": \"number\",\n        \"std\": 0,\n        \"min\": 0,\n        \"max\": 1,\n        \"num_unique_values\": 2,\n        \"samples\": [\n          0\n        ],\n        \"semantic_type\": \"\",\n        \"description\": \"\"\n      }\n    }\n  ]\n}"
            }
          },
          "metadata": {},
          "execution_count": 6
        }
      ],
      "source": [
        "ios.head()"
      ]
    },
    {
      "cell_type": "code",
      "execution_count": 7,
      "metadata": {
        "colab": {
          "base_uri": "https://localhost:8080/"
        },
        "id": "pFyzLTuE_FeD",
        "outputId": "e5e5d30b-d684-4ccd-e38f-d41f910c5d02"
      },
      "outputs": [
        {
          "output_type": "stream",
          "name": "stdout",
          "text": [
            "Shape of ios dataset: (7197, 16)\n",
            "Number of rows: 7197\n",
            "Number of columns: 16\n"
          ]
        }
      ],
      "source": [
        "print(\"Shape of ios dataset:\", ios.shape)\n",
        "print('Number of rows:', ios.shape[0])\n",
        "print('Number of columns:', ios.shape[1])"
      ]
    },
    {
      "cell_type": "markdown",
      "metadata": {
        "id": "4hNEG0hC_FeE"
      },
      "source": [
        "## **2. Data Clean up**"
      ]
    },
    {
      "cell_type": "markdown",
      "source": [
        "### 2.1. Finding and deleting incorrect data"
      ],
      "metadata": {
        "id": "KGSSSeJHCCKt"
      }
    },
    {
      "cell_type": "code",
      "source": [
        "# Check for missing/null values in each column\n",
        "missing_values = android.isnull().sum()\n",
        "\n",
        "# Display columns with missing values\n",
        "print(missing_values[missing_values > 0])\n"
      ],
      "metadata": {
        "colab": {
          "base_uri": "https://localhost:8080/"
        },
        "id": "zR-Ff269A6Kb",
        "outputId": "c0c46d99-79c0-44de-818f-1c118a8cca8b"
      },
      "execution_count": 8,
      "outputs": [
        {
          "output_type": "stream",
          "name": "stdout",
          "text": [
            "Rating            1474\n",
            "Type                 1\n",
            "Content Rating       1\n",
            "Current Ver          8\n",
            "Android Ver          3\n",
            "dtype: int64\n"
          ]
        }
      ]
    },
    {
      "cell_type": "code",
      "source": [
        "# Check for non-numeric values in the Rating column\n",
        "invalid_ratings = android[~android['Rating'].apply(lambda x: pd.to_numeric(x, errors='coerce')).notnull()]\n",
        "\n",
        "# Display rows with invalid ratings\n",
        "print(invalid_ratings)"
      ],
      "metadata": {
        "colab": {
          "base_uri": "https://localhost:8080/"
        },
        "id": "CFVNTPbQA6NU",
        "outputId": "d4c851d7-dc74-441d-b766-8b04a7bf8540"
      },
      "execution_count": 9,
      "outputs": [
        {
          "output_type": "stream",
          "name": "stdout",
          "text": [
            "                                       App             Category  Rating  \\\n",
            "23                  Mcqueen Coloring pages       ART_AND_DESIGN     NaN   \n",
            "113              Wrinkles and rejuvenation               BEAUTY     NaN   \n",
            "123                 Manicure - nail design               BEAUTY     NaN   \n",
            "126           Skin Care and Natural Beauty               BEAUTY     NaN   \n",
            "129    Secrets of beauty, youth and health               BEAUTY     NaN   \n",
            "...                                    ...                  ...     ...   \n",
            "10824                            Cardio-FR              MEDICAL     NaN   \n",
            "10825                   Naruto & Boruto FR               SOCIAL     NaN   \n",
            "10831             payermonstationnement.fr  MAPS_AND_NAVIGATION     NaN   \n",
            "10835                             FR Forms             BUSINESS     NaN   \n",
            "10838               Parkinson Exercices FR              MEDICAL     NaN   \n",
            "\n",
            "      Reviews  Size  Installs  Type Price Content Rating  \\\n",
            "23         61  7.0M  100,000+  Free     0       Everyone   \n",
            "113       182  5.7M  100,000+  Free     0   Everyone 10+   \n",
            "123       119  3.7M   50,000+  Free     0       Everyone   \n",
            "126       654  7.4M  100,000+  Free     0           Teen   \n",
            "129        77  2.9M   10,000+  Free     0     Mature 17+   \n",
            "...       ...   ...       ...   ...   ...            ...   \n",
            "10824      67   82M   10,000+  Free     0       Everyone   \n",
            "10825       7  7.7M      100+  Free     0           Teen   \n",
            "10831      38  9.8M    5,000+  Free     0       Everyone   \n",
            "10835       0  9.6M       10+  Free     0       Everyone   \n",
            "10838       3  9.5M    1,000+  Free     0       Everyone   \n",
            "\n",
            "                                Genres        Last Updated Current Ver  \\\n",
            "23     Art & Design;Action & Adventure       March 7, 2018       1.0.0   \n",
            "113                             Beauty  September 20, 2017         8.0   \n",
            "123                             Beauty       July 23, 2018         1.3   \n",
            "126                             Beauty       July 17, 2018        1.15   \n",
            "129                             Beauty      August 8, 2017         2.0   \n",
            "...                                ...                 ...         ...   \n",
            "10824                          Medical       July 31, 2018       2.2.2   \n",
            "10825                           Social    February 2, 2018         1.0   \n",
            "10831                Maps & Navigation       June 13, 2018   2.0.148.0   \n",
            "10835                         Business  September 29, 2016       1.1.5   \n",
            "10838                          Medical    January 20, 2017         1.0   \n",
            "\n",
            "      Android Ver  \n",
            "23     4.1 and up  \n",
            "113    3.0 and up  \n",
            "123    4.1 and up  \n",
            "126    4.1 and up  \n",
            "129    2.3 and up  \n",
            "...           ...  \n",
            "10824  4.4 and up  \n",
            "10825  4.0 and up  \n",
            "10831  4.0 and up  \n",
            "10835  4.0 and up  \n",
            "10838  2.2 and up  \n",
            "\n",
            "[1474 rows x 13 columns]\n"
          ]
        }
      ]
    },
    {
      "cell_type": "markdown",
      "source": [
        "While some apps does not have a rating, its still important to keep these app for the analysis, which means we need to focus on another approach to detecting incorrect data.\n",
        "\n",
        "The code below detects if there are any values in the Ratings column that are outside the standard rating value (0 - 5), as well as if there are any apps that has lesser than 0 installs and price just for confirmation."
      ],
      "metadata": {
        "id": "0ZfagoV6AVVJ"
      }
    },
    {
      "cell_type": "code",
      "source": [
        "# Ensure 'Rating', 'Installs', and 'Price' are numeric\n",
        "android['Rating'] = pd.to_numeric(android['Rating'], errors='coerce')\n",
        "android['Installs'] = pd.to_numeric(android['Installs'].str.replace('[+,]', '', regex=True), errors='coerce')  # Remove commas and '+' signs in 'Installs'\n",
        "android['Price'] = pd.to_numeric(android['Price'].str.replace('$', '', regex=True), errors='coerce')  # Remove '$' in 'Price'\n",
        "\n",
        "# Check for ratings out of the 0-5 range\n",
        "out_of_range_ratings = android[(android['Rating'] < 0) | (android['Rating'] > 5)]\n",
        "\n",
        "# Check for negative or impossible values in the 'Installs' or 'Price' column\n",
        "invalid_installs = android[android['Installs'] < 0]\n",
        "invalid_price = android[android['Price'] < 0]\n",
        "\n",
        "# Display results\n",
        "print(\"Out of range ratings:\")\n",
        "print(out_of_range_ratings)\n",
        "\n",
        "print(\"Invalid installs:\")\n",
        "print(invalid_installs)\n",
        "\n",
        "print(\"Invalid prices:\")\n",
        "print(invalid_price)"
      ],
      "metadata": {
        "colab": {
          "base_uri": "https://localhost:8080/"
        },
        "id": "bnSkXCPCA6Qg",
        "outputId": "6fa61546-832b-4cc2-8afc-e37c302e9430"
      },
      "execution_count": 10,
      "outputs": [
        {
          "output_type": "stream",
          "name": "stdout",
          "text": [
            "Out of range ratings:\n",
            "                                           App Category  Rating Reviews  \\\n",
            "10472  Life Made WI-Fi Touchscreen Photo Frame      1.9    19.0    3.0M   \n",
            "\n",
            "         Size  Installs Type  Price Content Rating             Genres  \\\n",
            "10472  1,000+       NaN    0    NaN            NaN  February 11, 2018   \n",
            "\n",
            "      Last Updated Current Ver Android Ver  \n",
            "10472       1.0.19  4.0 and up         NaN  \n",
            "Invalid installs:\n",
            "Empty DataFrame\n",
            "Columns: [App, Category, Rating, Reviews, Size, Installs, Type, Price, Content Rating, Genres, Last Updated, Current Ver, Android Ver]\n",
            "Index: []\n",
            "Invalid prices:\n",
            "Empty DataFrame\n",
            "Columns: [App, Category, Rating, Reviews, Size, Installs, Type, Price, Content Rating, Genres, Last Updated, Current Ver, Android Ver]\n",
            "Index: []\n"
          ]
        }
      ]
    },
    {
      "cell_type": "markdown",
      "metadata": {
        "id": "d85AtPFy_FeG"
      },
      "source": [
        "Data row 10472 corresponds to the app Life Made WI-Fi Touchscreen Photo Frame, and we can see that the rating is 19. This is clearly off because the maximum rating for a Google Play app is 5, So We must remove this particular data."
      ]
    },
    {
      "cell_type": "code",
      "execution_count": 11,
      "metadata": {
        "scrolled": true,
        "id": "fkP1IzqB_FeH",
        "outputId": "183b6808-ce38-44d0-de6e-d51aa7fee0a8",
        "colab": {
          "base_uri": "https://localhost:8080/"
        }
      },
      "outputs": [
        {
          "output_type": "stream",
          "name": "stdout",
          "text": [
            "10841\n",
            "10840\n"
          ]
        }
      ],
      "source": [
        "# Display the dataset amount with out-of-range ratings\n",
        "print(len(android))\n",
        "\n",
        "# Remove rows where the 'Rating' is out of the 0-5 range\n",
        "android = android[~((android['Rating'] < 0) | (android['Rating'] > 5))]\n",
        "\n",
        "# Display the cleaned dataset without out-of-range ratings\n",
        "print(len(android))"
      ]
    },
    {
      "cell_type": "markdown",
      "metadata": {
        "id": "6o2lCyrJ_FeH"
      },
      "source": [
        "### 2.2. Removing duplicate entries"
      ]
    },
    {
      "cell_type": "code",
      "source": [
        "# Check for duplicate rows based on the 'app' column only\n",
        "duplicate_apps = android[android.duplicated(subset=['App'])]\n",
        "\n",
        "# Display the duplicate rows\n",
        "print('Number of duplicate android apps:', len(duplicate_apps))\n",
        "print('\\n')\n",
        "print('Examples of duplicate android apps:', duplicate_apps[:15])"
      ],
      "metadata": {
        "colab": {
          "base_uri": "https://localhost:8080/"
        },
        "id": "nm8djlQTBIwa",
        "outputId": "3c1b28fd-0d8e-4539-c33d-2b468993afaa"
      },
      "execution_count": 12,
      "outputs": [
        {
          "output_type": "stream",
          "name": "stdout",
          "text": [
            "Number of duplicate android apps: 1181\n",
            "\n",
            "\n",
            "Examples of duplicate android apps:                                              App  Category  Rating Reviews  \\\n",
            "229                 Quick PDF Scanner + OCR FREE  BUSINESS     4.2   80805   \n",
            "236                                          Box  BUSINESS     4.2  159872   \n",
            "239                           Google My Business  BUSINESS     4.4   70991   \n",
            "256                          ZOOM Cloud Meetings  BUSINESS     4.4   31614   \n",
            "261                    join.me - Simple Meetings  BUSINESS     4.0    6989   \n",
            "265                                          Box  BUSINESS     4.2  159872   \n",
            "266                                     Zenefits  BUSINESS     4.2     296   \n",
            "267                                   Google Ads  BUSINESS     4.3   29313   \n",
            "268                           Google My Business  BUSINESS     4.4   70991   \n",
            "269                                        Slack  BUSINESS     4.4   51507   \n",
            "270                           FreshBooks Classic  BUSINESS     4.1    1802   \n",
            "271                                Insightly CRM  BUSINESS     3.8    1383   \n",
            "272  QuickBooks Accounting: Invoicing & Expenses  BUSINESS     4.3   23175   \n",
            "273               HipChat - Chat Built for Teams  BUSINESS     3.8    5868   \n",
            "274                     Xero Accounting Software  BUSINESS     3.5    2111   \n",
            "\n",
            "                   Size    Installs  Type  Price Content Rating    Genres  \\\n",
            "229  Varies with device   5000000.0  Free    0.0       Everyone  Business   \n",
            "236  Varies with device  10000000.0  Free    0.0       Everyone  Business   \n",
            "239  Varies with device   5000000.0  Free    0.0       Everyone  Business   \n",
            "256                 37M  10000000.0  Free    0.0       Everyone  Business   \n",
            "261  Varies with device   1000000.0  Free    0.0       Everyone  Business   \n",
            "265  Varies with device  10000000.0  Free    0.0       Everyone  Business   \n",
            "266                 14M     50000.0  Free    0.0       Everyone  Business   \n",
            "267                 20M   5000000.0  Free    0.0       Everyone  Business   \n",
            "268  Varies with device   5000000.0  Free    0.0       Everyone  Business   \n",
            "269  Varies with device   5000000.0  Free    0.0       Everyone  Business   \n",
            "270                 26M    100000.0  Free    0.0       Everyone  Business   \n",
            "271                 51M    100000.0  Free    0.0       Everyone  Business   \n",
            "272                 41M   1000000.0  Free    0.0       Everyone  Business   \n",
            "273                 20M    500000.0  Free    0.0       Everyone  Business   \n",
            "274  Varies with device    100000.0  Free    0.0       Everyone  Business   \n",
            "\n",
            "          Last Updated         Current Ver         Android Ver  \n",
            "229  February 26, 2018  Varies with device        4.0.3 and up  \n",
            "236      July 31, 2018  Varies with device  Varies with device  \n",
            "239      July 24, 2018    2.19.0.204537701          4.4 and up  \n",
            "256      July 20, 2018      4.1.28165.0716          4.0 and up  \n",
            "261      July 16, 2018           4.3.0.508          4.4 and up  \n",
            "265      July 31, 2018  Varies with device  Varies with device  \n",
            "266      June 15, 2018               3.2.1          4.1 and up  \n",
            "267      July 30, 2018              1.12.0        4.0.3 and up  \n",
            "268      July 24, 2018    2.19.0.204537701          4.4 and up  \n",
            "269     August 2, 2018  Varies with device  Varies with device  \n",
            "270     April 18, 2018              1.7.14          4.2 and up  \n",
            "271      July 12, 2018              3.24.1          5.0 and up  \n",
            "272      July 13, 2018                18.7          4.1 and up  \n",
            "273       July 3, 2018            3.19.005          4.1 and up  \n",
            "274      July 30, 2018  Varies with device  Varies with device  \n"
          ]
        }
      ]
    },
    {
      "cell_type": "code",
      "execution_count": 13,
      "metadata": {
        "id": "ayYTWNYS_FeI",
        "outputId": "ee2736ad-6f37-4b01-d328-100954bf5c93",
        "colab": {
          "base_uri": "https://localhost:8080/"
        }
      },
      "outputs": [
        {
          "output_type": "stream",
          "name": "stdout",
          "text": [
            "expected length: 9659\n"
          ]
        }
      ],
      "source": [
        "print('expected length:', len(android) - 1181)"
      ]
    },
    {
      "cell_type": "code",
      "source": [
        "# Ensure 'Reviews' column is numeric, just in case there are issues with data types\n",
        "android['Reviews'] = pd.to_numeric(android['Reviews'], errors='coerce')\n",
        "\n",
        "# Sort the dataset by 'App' and 'Reviews' in descending order (so highest reviews come first)\n",
        "android_sorted = android.sort_values(by=['App', 'Reviews'], ascending=[True, False])\n",
        "\n",
        "# Drop duplicates based on 'App', keeping the row with the highest number of reviews\n",
        "android_clean = android_sorted.drop_duplicates(subset=['App'], keep='first')\n",
        "\n",
        "# Check for duplicate rows based on the 'app' column only\n",
        "duplicate_check = android_clean[android_clean.duplicated(subset=['App'])]\n",
        "\n",
        "print('Number of duplicate android apps:', len(duplicate_check))"
      ],
      "metadata": {
        "colab": {
          "base_uri": "https://localhost:8080/"
        },
        "id": "ZH6ZO7LjCmgY",
        "outputId": "ab5371ea-0562-473a-ca08-2eacc29fc4bc"
      },
      "execution_count": 14,
      "outputs": [
        {
          "output_type": "stream",
          "name": "stdout",
          "text": [
            "Number of duplicate android apps: 0\n"
          ]
        }
      ]
    },
    {
      "cell_type": "code",
      "source": [
        "print(\"Shape of android_clean dataset:\", android_clean.shape)\n",
        "print('Number of rows:', android_clean.shape[0])\n",
        "print('Number of columns:', android_clean.shape[1])"
      ],
      "metadata": {
        "colab": {
          "base_uri": "https://localhost:8080/"
        },
        "id": "YcPFvxh6DVY-",
        "outputId": "2c38ef8d-4b10-4456-fef6-09f12e531b9e"
      },
      "execution_count": 15,
      "outputs": [
        {
          "output_type": "stream",
          "name": "stdout",
          "text": [
            "Shape of android_clean dataset: (9659, 13)\n",
            "Number of rows: 9659\n",
            "Number of columns: 13\n"
          ]
        }
      ]
    },
    {
      "cell_type": "markdown",
      "metadata": {
        "id": "ZsD0no_k_FeI"
      },
      "source": [
        "the main difference happens on the fourth position of each row, which corresponds to the number of reviews. The different numbers show the data was collected at different times.\n",
        "\n",
        "We can use this information to build a criterion for removing the duplicates. The higher the number of reviews, the more recent the data should be. Rather than removing duplicates randomly, we'll only keep the row with the highest number of reviews and remove the other entries for any given app."
      ]
    },
    {
      "cell_type": "markdown",
      "metadata": {
        "id": "wHQ3ZbiB_FeK"
      },
      "source": [
        "### 2.3. Removing non english entries"
      ]
    },
    {
      "cell_type": "markdown",
      "metadata": {
        "id": "NhEmE7Y3_FeK"
      },
      "source": [
        "To minimize the impact of data loss, we'll only remove an app if its name has more than three non-ASCII characters:"
      ]
    },
    {
      "cell_type": "code",
      "source": [
        "# Function to check if a string has more than 3 non-ASCII characters\n",
        "def is_english(string):\n",
        "    non_ascii_count = sum(1 for char in string if ord(char) > 127)\n",
        "    return non_ascii_count <= 3\n",
        "\n",
        "# Apply the function to filter out app names with more than 3 non-ASCII characters\n",
        "android_english = android_clean[android_clean['App'].apply(is_english)]\n",
        "\n",
        "# Display the cleaned dataset with only mostly English app names\n",
        "print(android_english)"
      ],
      "metadata": {
        "colab": {
          "base_uri": "https://localhost:8080/"
        },
        "id": "pa5Q-fMwoWQM",
        "outputId": "672a0865-ea75-419d-e8bb-3c67f1d6c7bb"
      },
      "execution_count": 16,
      "outputs": [
        {
          "output_type": "stream",
          "name": "stdout",
          "text": [
            "                                                   App       Category  Rating  \\\n",
            "8884              \"i DT\" Fútbol. Todos Somos Técnicos.         SPORTS     NaN   \n",
            "8532                     +Download 4 Instagram Twitter         SOCIAL     4.5   \n",
            "324                         - Free Comics - Comic Apps         COMICS     3.5   \n",
            "4541                                                .R          TOOLS     4.5   \n",
            "4636                                            /u/app  COMMUNICATION     4.7   \n",
            "...                                                ...            ...     ...   \n",
            "313                漫咖 Comics - Manga,Novel and Stories         COMICS     4.1   \n",
            "4362                                        💎 I'm rich      LIFESTYLE     3.8   \n",
            "2575     💘 WhatsLov: Smileys of love, stickers and GIF         SOCIAL     4.6   \n",
            "7559  📏 Smart Ruler ↔️ cm/inch measuring for homework!          TOOLS     4.0   \n",
            "882   🔥 Football Wallpapers 4K | Full HD Backgrounds 😍  ENTERTAINMENT     4.7   \n",
            "\n",
            "      Reviews  Size   Installs  Type  Price Content Rating         Genres  \\\n",
            "8884       27  3.6M      500.0  Free    0.0       Everyone         Sports   \n",
            "8532    40467   22M  1000000.0  Free    0.0       Everyone         Social   \n",
            "324       115  9.1M    10000.0  Free    0.0     Mature 17+         Comics   \n",
            "4541      259  203k    10000.0  Free    0.0       Everyone          Tools   \n",
            "4636      573   53M    10000.0  Free    0.0     Mature 17+  Communication   \n",
            "...       ...   ...        ...   ...    ...            ...            ...   \n",
            "313     12088   21M  1000000.0  Free    0.0     Mature 17+         Comics   \n",
            "4362      718   26M    10000.0  Paid    NaN       Everyone      Lifestyle   \n",
            "2575    22098   18M  1000000.0  Free    0.0       Everyone         Social   \n",
            "7559       19  3.2M    10000.0  Free    0.0       Everyone          Tools   \n",
            "882     11661  4.0M  1000000.0  Free    0.0       Everyone  Entertainment   \n",
            "\n",
            "            Last Updated Current Ver   Android Ver  \n",
            "8884     October 7, 2017        0.22    4.1 and up  \n",
            "8532      August 2, 2018        5.03    4.1 and up  \n",
            "324        July 13, 2018      5.0.12    5.0 and up  \n",
            "4541  September 16, 2014      1.1.06    1.5 and up  \n",
            "4636        July 3, 2018       4.2.4    4.1 and up  \n",
            "...                  ...         ...           ...  \n",
            "313         July 6, 2018       2.3.1  4.0.3 and up  \n",
            "4362      March 11, 2018       1.0.0    4.4 and up  \n",
            "2575       July 24, 2018       4.2.4  4.0.3 and up  \n",
            "7559    October 21, 2017         1.0    4.2 and up  \n",
            "882        July 14, 2018     1.1.3.2  4.0.3 and up  \n",
            "\n",
            "[9614 rows x 13 columns]\n"
          ]
        }
      ]
    },
    {
      "cell_type": "code",
      "source": [
        "print(\"Shape of android_english dataset:\", android_english.shape)\n",
        "print('Number of rows:', android_english.shape[0])\n",
        "print('Number of columns:', android_english.shape[1])"
      ],
      "metadata": {
        "colab": {
          "base_uri": "https://localhost:8080/"
        },
        "id": "aPG9LXrFpJ_v",
        "outputId": "a14f1a66-e251-49b6-da33-4d916acc669f"
      },
      "execution_count": 17,
      "outputs": [
        {
          "output_type": "stream",
          "name": "stdout",
          "text": [
            "Shape of android_english dataset: (9614, 13)\n",
            "Number of rows: 9614\n",
            "Number of columns: 13\n"
          ]
        }
      ]
    },
    {
      "cell_type": "code",
      "source": [
        "# Apply the same function to filter out non-English track names\n",
        "ios_english = ios[ios['track_name'].apply(is_english)]\n",
        "\n",
        "# Display the cleaned dataset with only English track names\n",
        "print(ios_english)"
      ],
      "metadata": {
        "colab": {
          "base_uri": "https://localhost:8080/"
        },
        "id": "lBuDHxP8oZnZ",
        "outputId": "3e77746d-28c1-41c9-da4d-46624bc94a3d"
      },
      "execution_count": 18,
      "outputs": [
        {
          "output_type": "stream",
          "name": "stdout",
          "text": [
            "              id                                    track_name  size_bytes  \\\n",
            "0      284882215                                      Facebook   389879808   \n",
            "1      389801252                                     Instagram   113954816   \n",
            "2      529479190                                Clash of Clans   116476928   \n",
            "3      420009108                                    Temple Run    65921024   \n",
            "4      284035177                       Pandora - Music & Radio   130242560   \n",
            "...          ...                                           ...         ...   \n",
            "7182  1070854722                                  Be-be-bears!   480781312   \n",
            "7186  1169971902                   Hey Duggee: We Love Animals   136347648   \n",
            "7192  1170406182  Shark Boom - Challenge Friends with your Pet   245415936   \n",
            "7194  1070052833                                    Go!Go!Cat!    91468800   \n",
            "7195  1081295232   Suppin Detective: Expose their true visage!    83026944   \n",
            "\n",
            "     currency  price  rating_count_tot  rating_count_ver  user_rating  \\\n",
            "0         USD   0.00           2974676               212          3.5   \n",
            "1         USD   0.00           2161558              1289          4.5   \n",
            "2         USD   0.00           2130805               579          4.5   \n",
            "3         USD   0.00           1724546              3842          4.5   \n",
            "4         USD   0.00           1126879              3594          4.0   \n",
            "...       ...    ...               ...               ...          ...   \n",
            "7182      USD   2.99                 0                 0          0.0   \n",
            "7186      USD   2.99                 0                 0          0.0   \n",
            "7192      USD   0.00                 0                 0          0.0   \n",
            "7194      USD   0.00                 0                 0          0.0   \n",
            "7195      USD   0.00                 0                 0          0.0   \n",
            "\n",
            "      user_rating_ver      ver cont_rating        prime_genre  \\\n",
            "0                 3.5     95.0          4+  Social Networking   \n",
            "1                 4.0    10.23         12+      Photo & Video   \n",
            "2                 4.5  9.24.12          9+              Games   \n",
            "3                 4.0    1.6.2          9+              Games   \n",
            "4                 4.5    8.4.1         12+              Music   \n",
            "...               ...      ...         ...                ...   \n",
            "7182              0.0  1.0.2.5          4+              Games   \n",
            "7186              0.0      1.2          4+              Games   \n",
            "7192              0.0    1.0.9          4+              Games   \n",
            "7194              0.0    1.1.2         12+              Games   \n",
            "7195              0.0    1.0.3         12+      Entertainment   \n",
            "\n",
            "      sup_devices.num  ipadSc_urls.num  lang.num  vpp_lic  \n",
            "0                  37                1        29        1  \n",
            "1                  37                0        29        1  \n",
            "2                  38                5        18        1  \n",
            "3                  40                5         1        1  \n",
            "4                  37                4         1        1  \n",
            "...               ...              ...       ...      ...  \n",
            "7182               35                5        13        1  \n",
            "7186               40                5         1        1  \n",
            "7192               38                5         1        1  \n",
            "7194               37                2         2        1  \n",
            "7195               40                0         1        1  \n",
            "\n",
            "[6183 rows x 16 columns]\n"
          ]
        }
      ]
    },
    {
      "cell_type": "code",
      "source": [
        "print(\"Shape of ios_english dataset:\", ios_english.shape)\n",
        "print('Number of rows:', ios_english.shape[0])\n",
        "print('Number of columns:', ios_english.shape[1])"
      ],
      "metadata": {
        "colab": {
          "base_uri": "https://localhost:8080/"
        },
        "id": "PPT-Hgb-pWTq",
        "outputId": "f6feecc7-10a0-4d03-ef82-463db173db31"
      },
      "execution_count": 19,
      "outputs": [
        {
          "output_type": "stream",
          "name": "stdout",
          "text": [
            "Shape of ios_english dataset: (6183, 16)\n",
            "Number of rows: 6183\n",
            "Number of columns: 16\n"
          ]
        }
      ]
    },
    {
      "cell_type": "markdown",
      "metadata": {
        "id": "boInVdTH_FeL"
      },
      "source": [
        "## **3. Isolating the Free Apps**"
      ]
    },
    {
      "cell_type": "code",
      "execution_count": 20,
      "metadata": {
        "id": "eCrPfGGR_FeL",
        "outputId": "9c61e9e3-1d39-4dfa-b5f0-8171f978e4ce",
        "colab": {
          "base_uri": "https://localhost:8080/"
        }
      },
      "outputs": [
        {
          "output_type": "stream",
          "name": "stdout",
          "text": [
            "                                                    App             Category  \\\n",
            "8884               \"i DT\" Fútbol. Todos Somos Técnicos.               SPORTS   \n",
            "8532                      +Download 4 Instagram Twitter               SOCIAL   \n",
            "324                          - Free Comics - Comic Apps               COMICS   \n",
            "4541                                                 .R                TOOLS   \n",
            "4636                                             /u/app        COMMUNICATION   \n",
            "...                                                 ...                  ...   \n",
            "3824  乗換NAVITIME　Timetable & Route Search in Japan T...  MAPS_AND_NAVIGATION   \n",
            "313                 漫咖 Comics - Manga,Novel and Stories               COMICS   \n",
            "2575      💘 WhatsLov: Smileys of love, stickers and GIF               SOCIAL   \n",
            "7559   📏 Smart Ruler ↔️ cm/inch measuring for homework!                TOOLS   \n",
            "882    🔥 Football Wallpapers 4K | Full HD Backgrounds 😍        ENTERTAINMENT   \n",
            "\n",
            "      Rating  Reviews                Size   Installs  Type  Price  \\\n",
            "8884     NaN       27                3.6M      500.0  Free    0.0   \n",
            "8532     4.5    40467                 22M  1000000.0  Free    0.0   \n",
            "324      3.5      115                9.1M    10000.0  Free    0.0   \n",
            "4541     4.5      259                203k    10000.0  Free    0.0   \n",
            "4636     4.7      573                 53M    10000.0  Free    0.0   \n",
            "...      ...      ...                 ...        ...   ...    ...   \n",
            "3824     4.4    50459  Varies with device  5000000.0  Free    0.0   \n",
            "313      4.1    12088                 21M  1000000.0  Free    0.0   \n",
            "2575     4.6    22098                 18M  1000000.0  Free    0.0   \n",
            "7559     4.0       19                3.2M    10000.0  Free    0.0   \n",
            "882      4.7    11661                4.0M  1000000.0  Free    0.0   \n",
            "\n",
            "     Content Rating             Genres        Last Updated  \\\n",
            "8884       Everyone             Sports     October 7, 2017   \n",
            "8532       Everyone             Social      August 2, 2018   \n",
            "324      Mature 17+             Comics       July 13, 2018   \n",
            "4541       Everyone              Tools  September 16, 2014   \n",
            "4636     Mature 17+      Communication        July 3, 2018   \n",
            "...             ...                ...                 ...   \n",
            "3824       Everyone  Maps & Navigation       July 26, 2018   \n",
            "313      Mature 17+             Comics        July 6, 2018   \n",
            "2575       Everyone             Social       July 24, 2018   \n",
            "7559       Everyone              Tools    October 21, 2017   \n",
            "882        Everyone      Entertainment       July 14, 2018   \n",
            "\n",
            "             Current Ver         Android Ver  \n",
            "8884                0.22          4.1 and up  \n",
            "8532                5.03          4.1 and up  \n",
            "324               5.0.12          5.0 and up  \n",
            "4541              1.1.06          1.5 and up  \n",
            "4636               4.2.4          4.1 and up  \n",
            "...                  ...                 ...  \n",
            "3824  Varies with device  Varies with device  \n",
            "313                2.3.1        4.0.3 and up  \n",
            "2575               4.2.4        4.0.3 and up  \n",
            "7559                 1.0          4.2 and up  \n",
            "882              1.1.3.2        4.0.3 and up  \n",
            "\n",
            "[8864 rows x 13 columns]\n",
            "Shape of android_final dataset: (8864, 13)\n",
            "Number of rows: 8864\n",
            "Number of columns: 13\n"
          ]
        }
      ],
      "source": [
        "# Ensure the 'Price' column is numeric (removing symbols like '$' if necessary)\n",
        "if android_english['Price'].dtype == 'object':\n",
        "    android_english['Price'] = pd.to_numeric(android_english['Price'].str.replace('$', '', regex=True), errors='coerce')\n",
        "\n",
        "# Filter rows where the 'Price' is 0 (free apps)\n",
        "android_final = android_english[android_english['Price'] == 0.0]\n",
        "\n",
        "# Display the final Android dataset with free apps\n",
        "print(android_final)\n",
        "print(\"Shape of android_final dataset:\", android_final.shape)\n",
        "print('Number of rows:', android_final.shape[0])\n",
        "print('Number of columns:', android_final.shape[1])"
      ]
    },
    {
      "cell_type": "code",
      "source": [
        "# Ensure the 'Price' column is numeric (removing symbols like '$' if necessary)\n",
        "if ios_english['price'].dtype == 'object':\n",
        "    ios_english['price'] = pd.to_numeric(ios_english['price'].str.replace('$', '', regex=True), errors='coerce')\n",
        "\n",
        "# Filter rows where the 'Price' is 0 (free apps)\n",
        "ios_final = ios_english[ios_english['price'] == 0.0]\n",
        "\n",
        "# Display the final iOS dataset with free apps\n",
        "print(ios_final)\n",
        "print(\"Shape of ios_final dataset:\", ios_final.shape)\n",
        "print('Number of rows:', ios_final.shape[0])\n",
        "print('Number of columns:', ios_final.shape[1])"
      ],
      "metadata": {
        "colab": {
          "base_uri": "https://localhost:8080/"
        },
        "id": "iTs56fYxp7UG",
        "outputId": "4bd79c9f-9d29-4bcd-c238-906153e653c3"
      },
      "execution_count": 21,
      "outputs": [
        {
          "output_type": "stream",
          "name": "stdout",
          "text": [
            "              id                                    track_name  size_bytes  \\\n",
            "0      284882215                                      Facebook   389879808   \n",
            "1      389801252                                     Instagram   113954816   \n",
            "2      529479190                                Clash of Clans   116476928   \n",
            "3      420009108                                    Temple Run    65921024   \n",
            "4      284035177                       Pandora - Music & Radio   130242560   \n",
            "...          ...                                           ...         ...   \n",
            "7164  1065550288          Tchapper Messenger - Keep it private    82187264   \n",
            "7177  1168960919                            Golden Lotus Slots   111412224   \n",
            "7192  1170406182  Shark Boom - Challenge Friends with your Pet   245415936   \n",
            "7194  1070052833                                    Go!Go!Cat!    91468800   \n",
            "7195  1081295232   Suppin Detective: Expose their true visage!    83026944   \n",
            "\n",
            "     currency  price  rating_count_tot  rating_count_ver  user_rating  \\\n",
            "0         USD    0.0           2974676               212          3.5   \n",
            "1         USD    0.0           2161558              1289          4.5   \n",
            "2         USD    0.0           2130805               579          4.5   \n",
            "3         USD    0.0           1724546              3842          4.5   \n",
            "4         USD    0.0           1126879              3594          4.0   \n",
            "...       ...    ...               ...               ...          ...   \n",
            "7164      USD    0.0                 0                 0          0.0   \n",
            "7177      USD    0.0                 0                 0          0.0   \n",
            "7192      USD    0.0                 0                 0          0.0   \n",
            "7194      USD    0.0                 0                 0          0.0   \n",
            "7195      USD    0.0                 0                 0          0.0   \n",
            "\n",
            "      user_rating_ver      ver cont_rating        prime_genre  \\\n",
            "0                 3.5     95.0          4+  Social Networking   \n",
            "1                 4.0    10.23         12+      Photo & Video   \n",
            "2                 4.5  9.24.12          9+              Games   \n",
            "3                 4.0    1.6.2          9+              Games   \n",
            "4                 4.5    8.4.1         12+              Music   \n",
            "...               ...      ...         ...                ...   \n",
            "7164              0.0      2.5          4+          Lifestyle   \n",
            "7177              0.0    1.1.0         17+              Games   \n",
            "7192              0.0    1.0.9          4+              Games   \n",
            "7194              0.0    1.1.2         12+              Games   \n",
            "7195              0.0    1.0.3         12+      Entertainment   \n",
            "\n",
            "      sup_devices.num  ipadSc_urls.num  lang.num  vpp_lic  \n",
            "0                  37                1        29        1  \n",
            "1                  37                0        29        1  \n",
            "2                  38                5        18        1  \n",
            "3                  40                5         1        1  \n",
            "4                  37                4         1        1  \n",
            "...               ...              ...       ...      ...  \n",
            "7164               37                0         9        1  \n",
            "7177               37                5         3        1  \n",
            "7192               38                5         1        1  \n",
            "7194               37                2         2        1  \n",
            "7195               40                0         1        1  \n",
            "\n",
            "[3222 rows x 16 columns]\n",
            "Shape of ios_final dataset: (3222, 16)\n",
            "Number of rows: 3222\n",
            "Number of columns: 16\n"
          ]
        }
      ]
    },
    {
      "cell_type": "markdown",
      "metadata": {
        "id": "DSeJxyn9_FeM"
      },
      "source": [
        "## Most Common Apps by Genre\n",
        "\n",
        "our aim is to determine the kinds of apps that are likely to attract more users because our revenue is highly influenced by the number of people using our apps.\n",
        "\n",
        "To minimize risks and overhead, our validation strategy for an app idea is comprised of three steps:\n",
        "\n",
        "1. Build a minimal Android version of the app, and add it to Google Play.\n",
        "2. If the app has a good response from users, we then develop it further.\n",
        "3. If the app is profitable after six months, we also build an iOS version of the app and add it to the App Store.\n",
        "\n",
        "Because our end goal is to add the app on both the App Store and Google Play, we need to find app profiles that are successful on both markets. For instance, a profile that might work well for both markets might be a productivity app that makes use of gamification.\n",
        "\n",
        "Let's begin the analysis by getting a sense of the most common genres for each market. For this, we'll build a frequency table for the prime_genre column of the App Store data set, and the Genres and Category columns of the Google Play data set."
      ]
    },
    {
      "cell_type": "markdown",
      "metadata": {
        "id": "PsM6zp-8_FeM"
      },
      "source": [
        "\n",
        "function to generate frequency tables that show percentages"
      ]
    },
    {
      "cell_type": "code",
      "execution_count": 22,
      "metadata": {
        "id": "4mGqUJUA_FeM"
      },
      "outputs": [],
      "source": [
        "# Function to calculate the frequency table for a specific column in the DataFrame\n",
        "def freq_table(df, column):\n",
        "    # Calculate the frequency percentages for each unique value in the column\n",
        "    value_counts = df[column].value_counts(normalize=True) * 100\n",
        "    return value_counts\n",
        "\n",
        "# Function to display the frequency table, sorted in descending order\n",
        "def display_table(df, column):\n",
        "    # Get the frequency table\n",
        "    table = freq_table(df, column)\n",
        "\n",
        "    # Sort by the percentage values in descending order and display the results\n",
        "    table_sorted = table.sort_values(ascending=False)\n",
        "    for index, value in table_sorted.items():\n",
        "        print(index, ':', value)"
      ]
    },
    {
      "cell_type": "markdown",
      "metadata": {
        "id": "HpTPdr00_FeM"
      },
      "source": [
        "We start by examining the frequency table for the prime_genre column of the App Store data set."
      ]
    },
    {
      "cell_type": "code",
      "execution_count": 23,
      "metadata": {
        "id": "xH6Tn5bk_FeN",
        "outputId": "b0bf0890-7b8d-448c-8db8-17a1e17930e7",
        "colab": {
          "base_uri": "https://localhost:8080/"
        }
      },
      "outputs": [
        {
          "output_type": "stream",
          "name": "stdout",
          "text": [
            "Games : 58.16263190564867\n",
            "Entertainment : 7.883302296710118\n",
            "Photo & Video : 4.9658597144630665\n",
            "Education : 3.662321539416512\n",
            "Social Networking : 3.2898820608317814\n",
            "Shopping : 2.60707635009311\n",
            "Utilities : 2.5139664804469275\n",
            "Sports : 2.1415270018621975\n",
            "Music : 2.0484171322160147\n",
            "Health & Fitness : 2.0173805090006205\n",
            "Productivity : 1.7380509000620732\n",
            "Lifestyle : 1.5828677839851024\n",
            "News : 1.3345747982619491\n",
            "Travel : 1.2414649286157666\n",
            "Finance : 1.1173184357541899\n",
            "Weather : 0.8690254500310366\n",
            "Food & Drink : 0.8069522036002483\n",
            "Reference : 0.5586592178770949\n",
            "Business : 0.5276225946617008\n",
            "Book : 0.4345127250155183\n",
            "Navigation : 0.186219739292365\n",
            "Medical : 0.186219739292365\n",
            "Catalogs : 0.12414649286157665\n"
          ]
        }
      ],
      "source": [
        "display_table(ios_final, 'prime_genre')"
      ]
    },
    {
      "cell_type": "code",
      "execution_count": 24,
      "metadata": {
        "id": "u-P6l5jf_FeN"
      },
      "outputs": [],
      "source": [
        "# # An alternative to the above code but without reusable function\n",
        "\n",
        "# # Calculate percentage values in the prime_genre column\n",
        "# genre_counts = ios_final['prime_genre'].value_counts(normalize=True) * 100\n",
        "\n",
        "# # Display the percentages with genre names\n",
        "# print(genre_counts)"
      ]
    },
    {
      "cell_type": "markdown",
      "metadata": {
        "id": "3dfUpP7A_FeO"
      },
      "source": [
        "We can see that among the free English apps, more than a half (58.16%) are games. Entertainment apps are close to 8%, followed by photo and video apps, which are close to 5%. Only 3.66% of the apps are designed for education, followed by social networking apps which amount for 3.29% of the apps in our data set.\n",
        "\n",
        "The general impression is that App Store (at least the part containing free English apps) is dominated by apps that are designed for fun (games, entertainment, photo and video, social networking, sports, music, etc.), while apps with practical purposes (education, shopping, utilities, productivity, lifestyle, etc.) are more rare. However, the fact that fun apps are the most numerous doesn't also imply that they also have the greatest number of users — the demand might not be the same as the offer."
      ]
    },
    {
      "cell_type": "markdown",
      "metadata": {
        "id": "kljE0AiF_FeO"
      },
      "source": [
        "display the percentages in a descending order"
      ]
    },
    {
      "cell_type": "code",
      "execution_count": 25,
      "metadata": {
        "id": "TpMxvHOe_FeO",
        "outputId": "3dc59a22-0f79-4361-bc8a-5af1da383d51",
        "colab": {
          "base_uri": "https://localhost:8080/"
        }
      },
      "outputs": [
        {
          "output_type": "stream",
          "name": "stdout",
          "text": [
            "FAMILY : 18.907942238267147\n",
            "GAME : 9.724729241877256\n",
            "TOOLS : 8.461191335740072\n",
            "BUSINESS : 4.591606498194946\n",
            "LIFESTYLE : 3.9034296028880866\n",
            "PRODUCTIVITY : 3.892148014440433\n",
            "FINANCE : 3.7003610108303246\n",
            "MEDICAL : 3.531137184115524\n",
            "SPORTS : 3.395758122743682\n",
            "PERSONALIZATION : 3.3167870036101084\n",
            "COMMUNICATION : 3.2378158844765346\n",
            "HEALTH_AND_FITNESS : 3.0798736462093865\n",
            "PHOTOGRAPHY : 2.944494584837545\n",
            "NEWS_AND_MAGAZINES : 2.7978339350180503\n",
            "SOCIAL : 2.6624548736462095\n",
            "TRAVEL_AND_LOCAL : 2.33528880866426\n",
            "SHOPPING : 2.2450361010830324\n",
            "BOOKS_AND_REFERENCE : 2.1435018050541514\n",
            "DATING : 1.861462093862816\n",
            "VIDEO_PLAYERS : 1.7937725631768955\n",
            "MAPS_AND_NAVIGATION : 1.3989169675090252\n",
            "FOOD_AND_DRINK : 1.2409747292418771\n",
            "EDUCATION : 1.1620036101083033\n",
            "ENTERTAINMENT : 0.9589350180505415\n",
            "LIBRARIES_AND_DEMO : 0.9363718411552346\n",
            "AUTO_AND_VEHICLES : 0.9250902527075812\n",
            "HOUSE_AND_HOME : 0.8235559566787004\n",
            "WEATHER : 0.8009927797833934\n",
            "EVENTS : 0.7107400722021661\n",
            "PARENTING : 0.6543321299638989\n",
            "ART_AND_DESIGN : 0.6430505415162455\n",
            "COMICS : 0.6204873646209386\n",
            "BEAUTY : 0.5979241877256317\n"
          ]
        }
      ],
      "source": [
        "display_table(android_final, 'Category')"
      ]
    },
    {
      "cell_type": "markdown",
      "metadata": {
        "id": "s6wnacFv_FeP"
      },
      "source": [
        "The landscape seems significantly different on Google Play: there are not that many apps designed for fun, and it seems that a good number of apps are designed for practical purposes (family, tools, business, lifestyle, productivity, etc.). However, if we investigate this further, we can see that the family category (which accounts for almost 19% of the apps) means mostly games for kids."
      ]
    },
    {
      "cell_type": "code",
      "execution_count": 26,
      "metadata": {
        "id": "tsR_E7fz_FeU",
        "outputId": "887b0f2e-c6a4-49d0-dfbf-5eeabd485774",
        "colab": {
          "base_uri": "https://localhost:8080/"
        }
      },
      "outputs": [
        {
          "output_type": "stream",
          "name": "stdout",
          "text": [
            "Tools : 8.449909747292418\n",
            "Entertainment : 6.069494584837545\n",
            "Education : 5.347472924187725\n",
            "Business : 4.591606498194946\n",
            "Lifestyle : 3.892148014440433\n",
            "Productivity : 3.892148014440433\n",
            "Finance : 3.7003610108303246\n",
            "Medical : 3.531137184115524\n",
            "Sports : 3.463447653429603\n",
            "Personalization : 3.3167870036101084\n",
            "Communication : 3.2378158844765346\n",
            "Action : 3.1024368231046933\n",
            "Health & Fitness : 3.0798736462093865\n",
            "Photography : 2.944494584837545\n",
            "News & Magazines : 2.7978339350180503\n",
            "Social : 2.6624548736462095\n",
            "Travel & Local : 2.3240072202166067\n",
            "Shopping : 2.2450361010830324\n",
            "Books & Reference : 2.1435018050541514\n",
            "Simulation : 2.0419675090252705\n",
            "Dating : 1.861462093862816\n",
            "Arcade : 1.8501805054151623\n",
            "Video Players & Editors : 1.7712093862815883\n",
            "Casual : 1.7599277978339352\n",
            "Maps & Navigation : 1.3989169675090252\n",
            "Food & Drink : 1.2409747292418771\n",
            "Puzzle : 1.128158844765343\n",
            "Racing : 0.9927797833935018\n",
            "Role Playing : 0.9363718411552346\n",
            "Libraries & Demo : 0.9363718411552346\n",
            "Auto & Vehicles : 0.9250902527075812\n",
            "Strategy : 0.9138086642599278\n",
            "House & Home : 0.8235559566787004\n",
            "Weather : 0.8009927797833934\n",
            "Events : 0.7107400722021661\n",
            "Adventure : 0.6768953068592057\n",
            "Comics : 0.6092057761732852\n",
            "Beauty : 0.5979241877256317\n",
            "Art & Design : 0.5979241877256317\n",
            "Parenting : 0.4963898916967509\n",
            "Card : 0.45126353790613716\n",
            "Casino : 0.42870036101083037\n",
            "Trivia : 0.41741877256317694\n",
            "Educational;Education : 0.39485559566787\n",
            "Board : 0.3835740072202166\n",
            "Educational : 0.3722924187725632\n",
            "Education;Education : 0.33844765342960287\n",
            "Word : 0.2594765342960289\n",
            "Casual;Pretend Play : 0.236913357400722\n",
            "Music : 0.2030685920577617\n",
            "Puzzle;Brain Games : 0.16922382671480143\n",
            "Racing;Action & Adventure : 0.16922382671480143\n",
            "Entertainment;Music & Video : 0.16922382671480143\n",
            "Casual;Action & Adventure : 0.13537906137184114\n",
            "Casual;Brain Games : 0.13537906137184114\n",
            "Arcade;Action & Adventure : 0.12409747292418773\n",
            "Action;Action & Adventure : 0.10153429602888085\n",
            "Educational;Pretend Play : 0.09025270758122744\n",
            "Parenting;Education : 0.078971119133574\n",
            "Board;Brain Games : 0.078971119133574\n",
            "Simulation;Action & Adventure : 0.078971119133574\n",
            "Entertainment;Brain Games : 0.078971119133574\n",
            "Art & Design;Creativity : 0.06768953068592057\n",
            "Educational;Brain Games : 0.06768953068592057\n",
            "Casual;Creativity : 0.06768953068592057\n",
            "Parenting;Music & Video : 0.06768953068592057\n",
            "Education;Pretend Play : 0.056407942238267145\n",
            "Role Playing;Pretend Play : 0.04512635379061372\n",
            "Education;Creativity : 0.04512635379061372\n",
            "Role Playing;Action & Adventure : 0.033844765342960284\n",
            "Educational;Creativity : 0.033844765342960284\n",
            "Entertainment;Creativity : 0.033844765342960284\n",
            "Education;Music & Video : 0.033844765342960284\n",
            "Education;Brain Games : 0.033844765342960284\n",
            "Education;Action & Adventure : 0.033844765342960284\n",
            "Puzzle;Action & Adventure : 0.033844765342960284\n",
            "Educational;Action & Adventure : 0.033844765342960284\n",
            "Adventure;Action & Adventure : 0.033844765342960284\n",
            "Entertainment;Action & Adventure : 0.033844765342960284\n",
            "Music;Music & Video : 0.02256317689530686\n",
            "Board;Action & Adventure : 0.02256317689530686\n",
            "Simulation;Pretend Play : 0.02256317689530686\n",
            "Puzzle;Creativity : 0.02256317689530686\n",
            "Casual;Education : 0.02256317689530686\n",
            "Sports;Action & Adventure : 0.02256317689530686\n",
            "Video Players & Editors;Music & Video : 0.02256317689530686\n",
            "Entertainment;Pretend Play : 0.02256317689530686\n",
            "Strategy;Creativity : 0.01128158844765343\n",
            "Adventure;Education : 0.01128158844765343\n",
            "Role Playing;Brain Games : 0.01128158844765343\n",
            "Entertainment;Education : 0.01128158844765343\n",
            "Casual;Music & Video : 0.01128158844765343\n",
            "Books & Reference;Education : 0.01128158844765343\n",
            "Health & Fitness;Action & Adventure : 0.01128158844765343\n",
            "Strategy;Education : 0.01128158844765343\n",
            "Art & Design;Pretend Play : 0.01128158844765343\n",
            "Travel & Local;Action & Adventure : 0.01128158844765343\n",
            "Card;Action & Adventure : 0.01128158844765343\n",
            "Trivia;Education : 0.01128158844765343\n",
            "Racing;Pretend Play : 0.01128158844765343\n",
            "Arcade;Pretend Play : 0.01128158844765343\n",
            "Art & Design;Action & Adventure : 0.01128158844765343\n",
            "Communication;Creativity : 0.01128158844765343\n",
            "Lifestyle;Pretend Play : 0.01128158844765343\n",
            "Music & Audio;Music & Video : 0.01128158844765343\n",
            "Lifestyle;Education : 0.01128158844765343\n",
            "Puzzle;Education : 0.01128158844765343\n",
            "Simulation;Education : 0.01128158844765343\n",
            "Health & Fitness;Education : 0.01128158844765343\n",
            "Comics;Creativity : 0.01128158844765343\n",
            "Tools;Education : 0.01128158844765343\n",
            "Parenting;Brain Games : 0.01128158844765343\n",
            "Strategy;Action & Adventure : 0.01128158844765343\n",
            "Video Players & Editors;Creativity : 0.01128158844765343\n"
          ]
        }
      ],
      "source": [
        "display_table(android_final, 'Genres')"
      ]
    },
    {
      "cell_type": "markdown",
      "metadata": {
        "id": "HHy7M7v4_FeU"
      },
      "source": [
        "The difference between the Genres and the Category columns is not crystal clear, but one thing we can notice is that the Genres column is much more granular (it has more categories). We're only looking for the bigger picture at the moment, so we'll only work with the Category column moving forward.\n",
        "\n",
        "Up to this point, we found that the App Store is dominated by apps designed for fun, while Google Play shows a more balanced landscape of both practical and for-fun apps. Now we'd like to get an idea about the kind of apps that have most users."
      ]
    },
    {
      "cell_type": "markdown",
      "metadata": {
        "id": "JJSTZnok_FeU"
      },
      "source": [
        "## Most Popular Apps by Genre on the App Store"
      ]
    },
    {
      "cell_type": "code",
      "source": [
        "# Group by 'prime_genre' and calculate the average number of ratings\n",
        "avg_ratings_df = ios_final.groupby('prime_genre')['rating_count_tot'].mean().reset_index()\n",
        "\n",
        "# Rename columns for clarity\n",
        "avg_ratings_df.columns = ['Genre', 'Average Ratings']\n",
        "\n",
        "# Sort by 'Average Ratings' in descending order\n",
        "avg_ratings_df = avg_ratings_df.sort_values(by='Average Ratings', ascending=False)\n",
        "\n",
        "# Display the sorted results\n",
        "print(avg_ratings_df)"
      ],
      "metadata": {
        "colab": {
          "base_uri": "https://localhost:8080/"
        },
        "id": "-LDrpms7BeZj",
        "outputId": "21b5943e-9b75-449b-dc89-c3ec38001e13"
      },
      "execution_count": 27,
      "outputs": [
        {
          "output_type": "stream",
          "name": "stdout",
          "text": [
            "                Genre  Average Ratings\n",
            "12         Navigation     86090.333333\n",
            "16          Reference     74942.111111\n",
            "18  Social Networking     71548.349057\n",
            "11              Music     57326.530303\n",
            "22            Weather     52279.892857\n",
            "0                Book     39758.500000\n",
            "6        Food & Drink     33333.923077\n",
            "5             Finance     31467.944444\n",
            "14      Photo & Video     28441.543750\n",
            "20             Travel     28243.800000\n",
            "17           Shopping     26919.690476\n",
            "8    Health & Fitness     23298.015385\n",
            "19             Sports     23008.898551\n",
            "7               Games     22788.669691\n",
            "13               News     21248.023256\n",
            "15       Productivity     21028.410714\n",
            "21          Utilities     18684.456790\n",
            "9           Lifestyle     16485.764706\n",
            "4       Entertainment     14029.830709\n",
            "1            Business      7491.117647\n",
            "3           Education      7003.983051\n",
            "2            Catalogs      4004.000000\n",
            "10            Medical       612.000000\n"
          ]
        }
      ]
    },
    {
      "cell_type": "code",
      "source": [
        "# Filter the DataFrame to get only rows where the 'prime_genre' is 'Navigation'\n",
        "navigation_apps = ios_final[ios_final['prime_genre'] == 'Navigation']\n",
        "\n",
        "# Iterate over the filtered DataFrame and print app name and number of ratings\n",
        "for index, app in navigation_apps.iterrows():\n",
        "    print(app['track_name'], ':', app['rating_count_tot'])"
      ],
      "metadata": {
        "colab": {
          "base_uri": "https://localhost:8080/"
        },
        "id": "W9l05Bs0B964",
        "outputId": "d04b6e2c-2476-4042-d178-d3d2acff9e82"
      },
      "execution_count": 28,
      "outputs": [
        {
          "output_type": "stream",
          "name": "stdout",
          "text": [
            "Waze - GPS Navigation, Maps & Real-time Traffic : 345046\n",
            "Google Maps - Navigation & Transit : 154911\n",
            "Geocaching® : 12811\n",
            "CoPilot GPS – Car Navigation & Offline Maps : 3582\n",
            "ImmobilienScout24: Real Estate Search in Germany : 187\n",
            "Railway Route Search : 5\n"
          ]
        }
      ]
    },
    {
      "cell_type": "markdown",
      "metadata": {
        "id": "Xhik2vfs_FeV"
      },
      "source": [
        "On average, navigation apps have the highest number of user reviews, but this figure is heavily influenced by Waze and Google Maps, which has high reviews amount"
      ]
    },
    {
      "cell_type": "markdown",
      "metadata": {
        "id": "w2UQyjSp_FeW"
      },
      "source": [
        "The same pattern applies to social networking apps, where the average number is heavily influenced by a few giants like Facebook, Pinterest, Skype, etc. Same applies to music apps, where a few big players like Pandora, Spotify, and Shazam heavily influence the average number.\n",
        "\n",
        "Our aim is to find popular genres, but navigation, social networking or music apps might seem more popular than they really are. The average number of ratings seem to be skewed by very few apps which have hundreds of thousands of user ratings, while the other apps may struggle to get past the 10,000 threshold. We could get a better picture by removing these extremely popular apps for each genre and then rework the averages, but we'll leave this level of detail for later."
      ]
    },
    {
      "cell_type": "code",
      "execution_count": 29,
      "metadata": {
        "id": "igiYV3LP_FeW",
        "outputId": "ff4d15a1-f677-43cb-9394-8e37e46a329d",
        "colab": {
          "base_uri": "https://localhost:8080/"
        }
      },
      "outputs": [
        {
          "output_type": "stream",
          "name": "stdout",
          "text": [
            "Bible : 985920\n",
            "Dictionary.com Dictionary & Thesaurus : 200047\n",
            "Dictionary.com Dictionary & Thesaurus for iPad : 54175\n",
            "Google Translate : 26786\n",
            "Muslim Pro: Ramadan 2017 Prayer Times, Azan, Quran : 18418\n",
            "New Furniture Mods - Pocket Wiki & Game Tools for Minecraft PC Edition : 17588\n",
            "Merriam-Webster Dictionary : 16849\n",
            "Night Sky : 12122\n",
            "City Maps for Minecraft PE - The Best Maps for Minecraft Pocket Edition (MCPE) : 8535\n",
            "LUCKY BLOCK MOD ™ for Minecraft PC Edition - The Best Pocket Wiki & Mods Installer Tools : 4693\n",
            "GUNS MODS for Minecraft PC Edition - Mods Tools : 1497\n",
            "Guides for Pokémon GO - Pokemon GO News and Cheats : 826\n",
            "WWDC : 762\n",
            "Horror Maps for Minecraft PE - Download The Scariest Maps for Minecraft Pocket Edition (MCPE) Free : 718\n",
            "VPN Express : 14\n",
            "Real Bike Traffic Rider Virtual Reality Glasses : 8\n",
            "教えて!goo : 0\n",
            "Jishokun-Japanese English Dictionary & Translator : 0\n"
          ]
        }
      ],
      "source": [
        "# Filter the DataFrame where 'prime_genre' is 'Reference'\n",
        "navigation_apps = ios_final[ios_final['prime_genre'] == 'Reference']\n",
        "\n",
        "# Print the 'track_name' and 'rating_count_tot' columns for the filtered apps\n",
        "for index, app in navigation_apps.iterrows():\n",
        "    print(app['track_name'], ':', app['rating_count_tot'])"
      ]
    },
    {
      "cell_type": "markdown",
      "metadata": {
        "id": "rhWOCLFf_FeW"
      },
      "source": [
        "However, this niche seems to show some potential. One thing we could do is take another popular book and turn it into an app where we could add different features besides the raw version of the book. This might include daily quotes from the book, an audio version of the book, quizzes about the book, etc. On top of that, we could also embed a dictionary within the app, so users don't need to exit our app to look up words in an external app.\n",
        "\n",
        "This idea seems to fit well with the fact that the App Store is dominated by for-fun apps. This suggests the market might be a bit saturated with for-fun apps, which means a practical app might have more of a chance to stand out among the huge number of apps on the App Store.\n",
        "\n",
        "Other genres that seem popular include weather, book, food and drink, or finance. The book genre seem to overlap a bit with the app idea we described above, but the other genres don't seem too interesting to us:\n",
        "\n",
        "- Weather apps — people generally don't spend too much time in-app, and the chances of making profit from in-app adds are low. Also, getting reliable live weather data may require us to connect our apps to non-free APIs.\n",
        "\n",
        "- Food and drink — examples here include Starbucks, Dunkin' Donuts, McDonald's, etc. So making a popular food and drink app requires actual cooking and a delivery service, which is outside the scope of our company.\n",
        "\n",
        "- Finance apps — these apps involve banking, paying bills, money transfer, etc. Building a finance app requires domain knowledge, and we don't want to hire a finance expert just to build an app."
      ]
    },
    {
      "cell_type": "markdown",
      "metadata": {
        "id": "GLzqNF5o_FeX"
      },
      "source": [
        "## Most Popular Apps by Genre on the Google Play Store"
      ]
    },
    {
      "cell_type": "code",
      "execution_count": 30,
      "metadata": {
        "id": "SjRrWUs-_Fem",
        "outputId": "6d7e6325-606b-4774-d529-d9a48c725479",
        "colab": {
          "base_uri": "https://localhost:8080/"
        }
      },
      "outputs": [
        {
          "output_type": "stream",
          "name": "stdout",
          "text": [
            "1000000.0 : 15.726534296028879\n",
            "100000.0 : 11.552346570397113\n",
            "10000000.0 : 10.548285198555957\n",
            "10000.0 : 10.198555956678701\n",
            "1000.0 : 8.393501805054152\n",
            "100.0 : 6.915613718411552\n",
            "5000000.0 : 6.825361010830325\n",
            "500000.0 : 5.561823104693141\n",
            "50000.0 : 4.7721119133574\n",
            "5000.0 : 4.512635379061372\n",
            "10.0 : 3.5424187725631766\n",
            "500.0 : 3.2490974729241873\n",
            "50000000.0 : 2.3014440433213\n",
            "100000000.0 : 2.1322202166064983\n",
            "50.0 : 1.917870036101083\n",
            "5.0 : 0.78971119133574\n",
            "1.0 : 0.5076714801444043\n",
            "500000000.0 : 0.2707581227436823\n",
            "1000000000.0 : 0.22563176895306858\n",
            "0.0 : 0.056407942238267145\n"
          ]
        }
      ],
      "source": [
        "display_table(android_final, 'Installs') # the Installs columns"
      ]
    },
    {
      "cell_type": "markdown",
      "metadata": {
        "id": "zdEsO33n_Fen"
      },
      "source": [
        "One problem with this data is that is not precise. For instance, we don't know whether an app with 100,000+ installs has 100,000 installs, 200,000, or 350,000. However, we don't need very precise data for our purposes — we only want to get an idea which app genres attract the most users, and we don't need perfect precision with respect to the number of users.\n",
        "\n",
        "We're going to leave the numbers as they are, which means that we'll consider that an app with 100,000+ installs has 100,000 installs, and an app with 1,000,000+ installs has 1,000,000 installs, and so on.\n",
        "\n",
        "To perform computations, however, we'll need to convert each install number to float — this means that we need to remove the commas and the plus characters, otherwise the conversion will fail and raise an error. We'll do this directly in the loop below, where we also compute the average number of installs for each genre (category)."
      ]
    },
    {
      "cell_type": "code",
      "source": [
        "# Create a dictionary to hold the average installs for each category\n",
        "avg_installs_dict = {}\n",
        "\n",
        "categories_android = freq_table(android_final, 'Category').index\n",
        "\n",
        "for category in categories_android:\n",
        "    # Filter to only include apps from the current category\n",
        "    category_apps = android_final[android_final['Category'] == category]\n",
        "\n",
        "    # Make Installs column as strings for cleaning\n",
        "    category_apps.loc[:, 'Installs'] = category_apps['Installs'].astype(str)\n",
        "\n",
        "    # Removing commas and plus signs, and convert to float for the Installs column\n",
        "    category_apps.loc[:, 'Installs'] = category_apps['Installs'].str.replace(',', '').str.replace('+', '').astype(float)\n",
        "\n",
        "    # Calculate total installs and the number of apps in this category\n",
        "    total_installs = category_apps['Installs'].sum()\n",
        "    len_category = category_apps.shape[0]\n",
        "\n",
        "    # Calculate the average number of installs\n",
        "    avg_n_installs = total_installs / len_category if len_category > 0 else 0\n",
        "\n",
        "    # Store the average number of installs in the dictionary\n",
        "    avg_installs_dict[category] = avg_n_installs\n",
        "\n",
        "# Sort the dictionary by average installs in descending order\n",
        "sorted_avg_installs = sorted(avg_installs_dict.items(), key=lambda x: x[1], reverse=True)\n",
        "\n",
        "# Print the sorted categories and their average number of installs\n",
        "for category, avg in sorted_avg_installs:\n",
        "    print(f\"{category}: {avg}\")"
      ],
      "metadata": {
        "colab": {
          "base_uri": "https://localhost:8080/"
        },
        "id": "BQmb9JSFhRKZ",
        "outputId": "39d15d45-91dd-4fbf-da29-72a220b5e50f"
      },
      "execution_count": 31,
      "outputs": [
        {
          "output_type": "stream",
          "name": "stdout",
          "text": [
            "COMMUNICATION: 38456119.167247385\n",
            "VIDEO_PLAYERS: 24727872.452830188\n",
            "SOCIAL: 23253652.127118643\n",
            "PHOTOGRAPHY: 17840110.40229885\n",
            "PRODUCTIVITY: 16787331.344927534\n",
            "GAME: 15588015.603248259\n",
            "TRAVEL_AND_LOCAL: 13984077.710144928\n",
            "ENTERTAINMENT: 11640705.88235294\n",
            "TOOLS: 10801391.298666667\n",
            "NEWS_AND_MAGAZINES: 9549178.467741935\n",
            "BOOKS_AND_REFERENCE: 8767811.894736841\n",
            "SHOPPING: 7036877.311557789\n",
            "PERSONALIZATION: 5201482.6122448975\n",
            "WEATHER: 5074486.197183099\n",
            "HEALTH_AND_FITNESS: 4188821.9853479853\n",
            "MAPS_AND_NAVIGATION: 4056941.7741935486\n",
            "FAMILY: 3695641.8198090694\n",
            "SPORTS: 3638640.1428571427\n",
            "ART_AND_DESIGN: 1986335.0877192982\n",
            "FOOD_AND_DRINK: 1924897.7363636363\n",
            "EDUCATION: 1833495.145631068\n",
            "BUSINESS: 1712290.1474201474\n",
            "LIFESTYLE: 1437816.2687861272\n",
            "FINANCE: 1387692.475609756\n",
            "HOUSE_AND_HOME: 1331540.5616438356\n",
            "DATING: 854028.8303030303\n",
            "COMICS: 817657.2727272727\n",
            "AUTO_AND_VEHICLES: 647317.8170731707\n",
            "LIBRARIES_AND_DEMO: 638503.734939759\n",
            "PARENTING: 542603.6206896552\n",
            "BEAUTY: 513151.88679245283\n",
            "EVENTS: 253542.22222222222\n",
            "MEDICAL: 120550.61980830671\n"
          ]
        }
      ]
    },
    {
      "cell_type": "markdown",
      "source": [
        "Communication app category"
      ],
      "metadata": {
        "id": "Y1yXUVYjjsO-"
      }
    },
    {
      "cell_type": "code",
      "execution_count": 32,
      "metadata": {
        "id": "Swr3pE1G_Feo",
        "outputId": "f81cbbf5-feff-44bb-a966-1db44fdd1e1b",
        "colab": {
          "base_uri": "https://localhost:8080/"
        }
      },
      "outputs": [
        {
          "output_type": "stream",
          "name": "stdout",
          "text": [
            "Android Messages: 100000000\n",
            "BBM - Free Calls & Messages: 100000000\n",
            "Firefox Browser fast & private: 100000000\n",
            "GO SMS Pro - Messenger, Free Themes, Emoji: 100000000\n",
            "Gmail: 1000000000\n",
            "Google Chrome: Fast & Secure: 1000000000\n",
            "Google Duo - High Quality Video Calls: 500000000\n",
            "Hangouts: 1000000000\n",
            "KakaoTalk: Free Calls & Text: 100000000\n",
            "Kik: 100000000\n",
            "LINE: Free Calls & Messages: 500000000\n",
            "Messenger Lite: Free Calls & Messages: 100000000\n",
            "Messenger – Text and Video Chat for Free: 1000000000\n",
            "Opera Browser: Fast and Secure: 100000000\n",
            "Opera Mini - fast web browser: 100000000\n",
            "Skype - free IM & video calls: 1000000000\n",
            "Telegram: 100000000\n",
            "Truecaller: Caller ID, SMS spam blocking & Dialer: 100000000\n",
            "UC Browser - Fast Download Private & Secure: 500000000\n",
            "UC Browser Mini -Tiny Fast Private & Secure: 100000000\n",
            "Viber Messenger: 500000000\n",
            "WeChat: 100000000\n",
            "WhatsApp Messenger: 1000000000\n",
            "Who: 100000000\n",
            "Yahoo Mail – Stay Organized: 100000000\n",
            "imo beta free calls and text: 100000000\n",
            "imo free video calls and chat: 500000000\n"
          ]
        }
      ],
      "source": [
        "# Filter for apps in the 'COMMUNICATION' category with specific install numbers\n",
        "filtered_apps = android_final[\n",
        "    (android_final['Category'] == 'COMMUNICATION') &\n",
        "    (android_final['Installs'].isin([1_000_000_000, 500_000_000, 100_000_000]))\n",
        "]\n",
        "\n",
        "# Print the app names and their install numbers\n",
        "for index, row in filtered_apps.iterrows():\n",
        "    print(f\"{row['App']}: {row['Installs']:.0f}\")  # Format to display as whole numbers"
      ]
    },
    {
      "cell_type": "markdown",
      "metadata": {
        "id": "QUnNAQbd_Fen"
      },
      "source": [
        "On average, communication apps have the most installs: 38,456,119. This number is heavily skewed up by a few apps that have over one billion installs (WhatsApp, Facebook Messenger, Skype, Google Chrome, Gmail, and Hangouts), and a few others with over 100 and 500 million installs."
      ]
    },
    {
      "cell_type": "code",
      "source": [
        "# Filter for communication apps with fewer than 100 million installs\n",
        "under_100_m = android_final[(android_final['Category'] == 'COMMUNICATION') & (android_final['Installs'] < 100000000)]\n",
        "\n",
        "# Calculate the average installs\n",
        "average_installs = under_100_m['Installs'].mean()\n",
        "\n",
        "print(average_installs)"
      ],
      "metadata": {
        "colab": {
          "base_uri": "https://localhost:8080/"
        },
        "id": "1cOhSMkUisse",
        "outputId": "be4bb8ae-adcc-4d27-b3f2-ffbe89f8a9f5"
      },
      "execution_count": 33,
      "outputs": [
        {
          "output_type": "stream",
          "name": "stdout",
          "text": [
            "3603485.3884615386\n"
          ]
        }
      ]
    },
    {
      "cell_type": "markdown",
      "source": [
        "If these apps were to be removed and the communication apps only consist of apps that has under 100,000,000 installs, the average installs of the communication app category changed from 38,456,119 to 3,603,485."
      ],
      "metadata": {
        "id": "QVHsPmRTjdBc"
      }
    },
    {
      "cell_type": "markdown",
      "source": [
        "Video player app category"
      ],
      "metadata": {
        "id": "kwvcCiWkjv_t"
      }
    },
    {
      "cell_type": "code",
      "source": [
        "# Filter for apps in the 'VIDEO_PLAYERS' category with specific install numbers\n",
        "filtered_apps = android_final[\n",
        "    (android_final['Category'] == 'VIDEO_PLAYERS') &\n",
        "    (android_final['Installs'].isin([1_000_000_000, 500_000_000, 100_000_000]))\n",
        "]\n",
        "\n",
        "# Print the app names and their install numbers\n",
        "for index, row in filtered_apps.iterrows():\n",
        "    print(f\"{row['App']}: {row['Installs']:.0f}\")  # Format to display as whole numbers"
      ],
      "metadata": {
        "colab": {
          "base_uri": "https://localhost:8080/"
        },
        "id": "IEQ5UKEDjym6",
        "outputId": "cdf2608e-b1e5-463f-ce3b-fafb8676f0c0"
      },
      "execution_count": 34,
      "outputs": [
        {
          "output_type": "stream",
          "name": "stdout",
          "text": [
            "Dubsmash: 100000000\n",
            "Google Play Movies & TV: 1000000000\n",
            "MX Player: 500000000\n",
            "Motorola FM Radio: 100000000\n",
            "Motorola Gallery: 100000000\n",
            "VLC for Android: 100000000\n",
            "VideoShow-Video Editor, Video Maker, Beauty Camera: 100000000\n",
            "VivaVideo - Video Editor & Photo Movie: 100000000\n",
            "YouTube: 1000000000\n"
          ]
        }
      ]
    },
    {
      "cell_type": "code",
      "source": [
        "# Filter for VIDEO_PLAYERS apps with fewer than 100 million installs\n",
        "under_100_m = android_final[(android_final['Category'] == 'VIDEO_PLAYERS') & (android_final['Installs'] < 100000000)]\n",
        "\n",
        "# Calculate the average installs\n",
        "average_installs = under_100_m['Installs'].mean()\n",
        "\n",
        "print(average_installs)"
      ],
      "metadata": {
        "colab": {
          "base_uri": "https://localhost:8080/"
        },
        "id": "eIxJWsB9jypf",
        "outputId": "8cff6489-0eb0-43fb-dad4-e2d9627591fb"
      },
      "execution_count": 35,
      "outputs": [
        {
          "output_type": "stream",
          "name": "stdout",
          "text": [
            "5544878.133333334\n"
          ]
        }
      ]
    },
    {
      "cell_type": "markdown",
      "metadata": {
        "id": "vCFr79DD_Feo"
      },
      "source": [
        "We see the same pattern for the video players category, where the market is dominated by apps like Youtube, Google Play Movies & TV, or MX Player. the average installs of the communication app category changed from 24,727,872 to 5,544,878.\n",
        "\n",
        "The pattern is repeated for social apps (where we have giants like Facebook, Instagram, Google+, etc.), photography apps (Google Photos and other popular photo editors), or productivity apps (Microsoft Word, Dropbox, Google Calendar, Evernote, etc.)."
      ]
    },
    {
      "cell_type": "markdown",
      "source": [
        "Again, the main concern is that these app genres might seem more popular than they really are. Moreover, these niches seem to be dominated by a few giants who are hard to compete against.\n",
        "\n",
        "The game genre seems pretty popular, but previously we found out this part of the market seems a bit saturated, so we'd like to come up with a different app recommendation if possible.\n",
        "\n",
        "The books and reference genre looks fairly popular as well, with an average number of installs of 8,767,811. It's interesting to explore this in more depth, since we found this genre has some potential to work well on the App Store, and our aim is to recommend an app genre that shows potential for being profitable on both the App Store and Google Play.\n",
        "\n",
        "Let's take a look at some of the apps from this genre and their number of installs:"
      ],
      "metadata": {
        "id": "TwO-sHmcknoj"
      }
    },
    {
      "cell_type": "markdown",
      "metadata": {
        "id": "SdfLDFvF_Fep"
      },
      "source": [
        "The book and reference genre includes a variety of apps: software for processing and reading ebooks, various collections of libraries, dictionaries, tutorials on programming or languages, etc. It seems there's still a small number of extremely popular apps that skew the average:"
      ]
    },
    {
      "cell_type": "code",
      "execution_count": 36,
      "metadata": {
        "id": "Yngngwi2_Feo",
        "outputId": "565eb2fe-fc09-45c0-c2ae-f16e05381ba4",
        "colab": {
          "base_uri": "https://localhost:8080/"
        }
      },
      "outputs": [
        {
          "output_type": "stream",
          "name": "stdout",
          "text": [
            "Amazon Kindle: 100000000\n",
            "Audiobooks from Audible: 100000000\n",
            "Bible: 100000000\n",
            "Google Play Books: 1000000000\n",
            "Wattpad 📖 Free Books: 100000000\n"
          ]
        }
      ],
      "source": [
        "# Filter for apps in the 'BOOKS_AND_REFERENCE' category with specific install numbers\n",
        "filtered_apps = android_final[\n",
        "    (android_final['Category'] == 'BOOKS_AND_REFERENCE') &\n",
        "    (android_final['Installs'].isin([1_000_000_000, 500_000_000, 100_000_000]))\n",
        "]\n",
        "\n",
        "# Print the app names and their install numbers\n",
        "for index, row in filtered_apps.iterrows():\n",
        "    print(f\"{row['App']}: {row['Installs']:.0f}\")  # Format to display as whole numbers"
      ]
    },
    {
      "cell_type": "code",
      "execution_count": 37,
      "metadata": {
        "id": "4cQfS8ZU_Fep",
        "outputId": "ea69a458-739d-44cf-d503-a5a5e5892006",
        "colab": {
          "base_uri": "https://localhost:8080/"
        }
      },
      "outputs": [
        {
          "output_type": "stream",
          "name": "stdout",
          "text": [
            "1437212.2162162163\n"
          ]
        }
      ],
      "source": [
        "# Filter for BOOKS_AND_REFERENCE apps with fewer than 100 million installs\n",
        "under_100_m = android_final[(android_final['Category'] == 'BOOKS_AND_REFERENCE') & (android_final['Installs'] < 100000000)]\n",
        "\n",
        "# Calculate the average installs\n",
        "average_installs = under_100_m['Installs'].mean()\n",
        "\n",
        "print(average_installs)"
      ]
    },
    {
      "cell_type": "markdown",
      "metadata": {
        "id": "jhuTyYRE_Fep"
      },
      "source": [
        "While the average value for books and reference changed from 8,767,811 to 1,437,212, it looks like there are only a few very popular apps, so this market still shows potential due to low competitor amount.\n",
        "\n",
        "Let's try to get some book app category ideas based on the kind of apps that are somewhere in the middle in terms of popularity (between 1,000,000 and 100,000,000 downloads)"
      ]
    },
    {
      "cell_type": "code",
      "execution_count": 38,
      "metadata": {
        "id": "g_WAyxxN_Fep",
        "outputId": "1ea6f307-f396-46cc-cf17-085bb76ecda2",
        "colab": {
          "base_uri": "https://localhost:8080/"
        }
      },
      "outputs": [
        {
          "output_type": "stream",
          "name": "stdout",
          "text": [
            "NOOK: Read eBooks & Magazines : 10000000.0\n",
            "English Dictionary - Offline : 10000000.0\n",
            "Dictionary.com: Find Definitions for English Words : 10000000.0\n",
            "FBReader: Favorite Book Reader : 10000000.0\n",
            "Dictionary - Merriam-Webster : 10000000.0\n",
            "Dictionary : 10000000.0\n",
            "Cool Reader : 10000000.0\n",
            "HTC Help : 10000000.0\n",
            "JW Library : 10000000.0\n",
            "Moon+ Reader : 10000000.0\n",
            "English Hindi Dictionary : 10000000.0\n",
            "Oxford Dictionary of English : Free : 10000000.0\n",
            "Quran for Android : 10000000.0\n",
            "Aldiko Book Reader : 10000000.0\n",
            "Spanish English Translator : 10000000.0\n",
            "Al-Quran (Free) : 10000000.0\n",
            "Al'Quran Bahasa Indonesia : 10000000.0\n",
            "Al Quran Indonesia : 10000000.0\n",
            "Wikipedia : 10000000.0\n",
            "Read books online : 5000000.0\n",
            "Al Quran : EAlim - Translations & MP3 Offline : 5000000.0\n",
            "50000 Free eBooks & Free AudioBooks : 5000000.0\n",
            "English to Hindi Dictionary : 5000000.0\n",
            "Ebook Reader : 5000000.0\n",
            "Bible KJV : 5000000.0\n",
            "Dictionary - WordWeb : 5000000.0\n",
            "AlReader -any text book reader : 5000000.0\n",
            "Ancestry : 5000000.0\n",
            "eBoox: book reader fb2 epub zip : 1000000.0\n",
            "Al Quran Al karim : 1000000.0\n",
            "Stats Royale for Clash Royale : 1000000.0\n",
            "Satellite AR : 1000000.0\n",
            "ReadEra – free ebook reader : 1000000.0\n",
            "All Language Translator Free : 1000000.0\n",
            "All Maths Formulas : 1000000.0\n",
            "Oxford A-Z of English Usage : 1000000.0\n",
            "My Little Pony AR Guide : 1000000.0\n",
            "EGW Writings : 1000000.0\n",
            "Book store : 1000000.0\n",
            "Koran Read &MP3 30 Juz Offline : 1000000.0\n",
            "Brilliant Quotes: Life, Love, Family & Motivation : 1000000.0\n",
            "Hafizi Quran 15 lines per page : 1000000.0\n",
            "Cloud of Books : 1000000.0\n",
            "Golden Dictionary (EN-AR) : 1000000.0\n",
            "Free Books - Spirit Fanfiction and Stories : 1000000.0\n",
            "FamilySearch Tree : 1000000.0\n",
            "English-Myanmar Dictionary : 1000000.0\n",
            "wikiHow: how to do anything : 1000000.0\n"
          ]
        },
        {
          "output_type": "stream",
          "name": "stderr",
          "text": [
            "<ipython-input-38-e3777be87483>:2: SettingWithCopyWarning: \n",
            "A value is trying to be set on a copy of a slice from a DataFrame.\n",
            "Try using .loc[row_indexer,col_indexer] = value instead\n",
            "\n",
            "See the caveats in the documentation: https://pandas.pydata.org/pandas-docs/stable/user_guide/indexing.html#returning-a-view-versus-a-copy\n",
            "  android_final['Installs'] = pd.to_numeric(android_final['Installs'], errors='coerce')\n"
          ]
        }
      ],
      "source": [
        "# Convert installs to numeric, if not already done\n",
        "android_final['Installs'] = pd.to_numeric(android_final['Installs'], errors='coerce')\n",
        "\n",
        "# Define the install counts you want to check (as numeric values)\n",
        "install_counts = [1000000.0, 5000000.0, 10000000.0, 50000000.0]\n",
        "\n",
        "# Filter the DataFrame for the specified category and install counts\n",
        "filtered_apps = android_final[\n",
        "    (android_final['Category'] == 'BOOKS_AND_REFERENCE') &\n",
        "    (android_final['Installs'].isin(install_counts))\n",
        "]\n",
        "\n",
        "# Sort the filtered DataFrame by 'Installs' from largest to smallest\n",
        "filtered_apps = filtered_apps.sort_values(by='Installs', ascending=False)\n",
        "\n",
        "# Print the app names and install counts\n",
        "for index, row in filtered_apps.iterrows():\n",
        "    print(row['App'], ':', row['Installs'])"
      ]
    },
    {
      "cell_type": "markdown",
      "metadata": {
        "id": "6KFnQVMy_Fep"
      },
      "source": [
        "This niche seems to be dominated by software for processing and reading ebooks, as well as various collections of libraries and dictionaries, so it's probably not a good idea to build similar apps since there'll be some significant competition.\n",
        "\n",
        "We also notice there are quite a few apps built around the book Quran, which suggests that building an app around a popular book can be profitable. It seems that taking a popular book or a more recent book and turning it into an app could be profitable for both the Google Play and the App Store markets.\n",
        "\n",
        "However, it looks like the market is already full of libraries, so we need to add some special features besides the raw version of the book. This might include daily quotes from the book, an audio version of the book, quizzes on the book, a forum where people can discuss the book, etc."
      ]
    },
    {
      "cell_type": "markdown",
      "metadata": {
        "id": "q-izIbtu_Fep"
      },
      "source": [
        "# Conclusions\n",
        "In this project, we analyzed data about the App Store and Google Play mobile apps with the goal of recommending an app profile that can be profitable for both markets.\n",
        "\n",
        "We concluded that taking a popular book or a more recent book and turning it into an app could be profitable for both the Google Play and the App Store markets. The markets are already full of libraries, so we need to add some special features besides the raw version of the book. This might include daily quotes from the book, an audio version of the book, quizzes on the book, a forum where people can discuss the book, etc."
      ]
    }
  ],
  "metadata": {
    "kernelspec": {
      "display_name": "Python 3",
      "language": "python",
      "name": "python3"
    },
    "language_info": {
      "codemirror_mode": {
        "name": "ipython",
        "version": 3
      },
      "file_extension": ".py",
      "mimetype": "text/x-python",
      "name": "python",
      "nbconvert_exporter": "python",
      "pygments_lexer": "ipython3",
      "version": "3.8.2"
    },
    "colab": {
      "provenance": []
    }
  },
  "nbformat": 4,
  "nbformat_minor": 0
}